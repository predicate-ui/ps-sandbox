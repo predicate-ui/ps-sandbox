{
    "cells": [
        {
            "cell_type": "code",
            "execution_count": 1,
            "source": [
                "import oauth\n",
                "email_address = \"indecorpredicate@gmail.com\""
            ],
            "outputs": [],
            "metadata": {}
        },
        {
            "cell_type": "code",
            "execution_count": 2,
            "metadata": {},
            "outputs": [
                {
                    "output_type": "stream",
                    "name": "stdout",
                    "text": [
                        "starting a new service\n"
                    ]
                }
            ],
            "source": [
                "Indecor = oauth.OAuthGmailUser(\"ben@terminallabs.com\", cred_path=oauth.CRED_PATH, token_path=oauth.TOKEN_PATH, scopes=[\"modify\"])"
            ]
        },
        {
            "cell_type": "code",
            "execution_count": 3,
            "source": [
                "Indecor.get_messages(max_results=4)"
            ],
            "outputs": [
                {
                    "output_type": "execute_result",
                    "data": {
                        "text/plain": [
                            "[('17b83a5342d9a2f4', 'We’re sorry we missed\\u202fyou'),\n",
                            " ('17b832f8da36773f', 'REMINDER: Adobe wants your input | $100 gift code if you qualify!'),\n",
                            " ('17b7e5bbda5daa5e', 'Announcing HashiConf Global speakers: Stripe, Target, Workday, Petco & more'),\n",
                            " ('17b7e43818c82a66', 'Keeping IT & Cloud Governance, Security and Costs in check')]"
                        ]
                    },
                    "metadata": {},
                    "execution_count": 3
                }
            ],
            "metadata": {}
        }
    ],
    "metadata": {
        "orig_nbformat": 4,
        "language_info": {
            "name": "python",
            "version": "3.6.10",
            "mimetype": "text/x-python",
            "codemirror_mode": {
                "name": "ipython",
                "version": 3
            },
            "pygments_lexer": "ipython3",
            "nbconvert_exporter": "python",
            "file_extension": ".py"
        },
        "kernelspec": {
            "name": "python3",
            "display_name": "Python 3.6.10 64-bit ('pydev': conda)"
        },
        "interpreter": {
            "hash": "3a0afe56b1e67792e861f38d6b26ecb378429b543d302460c52e434d6249a684"
        }
    },
    "nbformat": 4,
    "nbformat_minor": 2
}