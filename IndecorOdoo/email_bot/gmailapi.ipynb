{
    "cells": [
        {
            "cell_type": "code",
            "execution_count": 1,
            "source": [
                "import oauth\n",
                "email_address = \"indecorpredicate@gmail.com\""
            ],
            "outputs": [],
            "metadata": {}
        },
        {
            "cell_type": "code",
            "execution_count": 2,
            "metadata": {},
            "outputs": [
                {
                    "output_type": "stream",
                    "name": "stdout",
                    "text": [
                        "starting a new service\n"
                    ]
                }
            ],
            "source": [
                "Indecor = oauth.OAuthGmailUser(\"ben@terminallabs.com\", cred_path=oauth.CRED_PATH, token_path=oauth.TOKEN_PATH, scopes=[\"modify\"])"
            ]
        },
        {
            "cell_type": "code",
            "execution_count": 3,
            "source": [
                "Indecor.get_messages(max_results=4)"
            ],
            "outputs": [
                {
                    "output_type": "execute_result",
                    "data": {
                        "text/plain": [
                            "[('17b83a5342d9a2f4', 'We’re sorry we missed\\u202fyou'),\n",
                            " ('17b832f8da36773f', 'REMINDER: Adobe wants your input | $100 gift code if you qualify!'),\n",
                            " ('17b7e5bbda5daa5e', 'Announcing HashiConf Global speakers: Stripe, Target, Workday, Petco & more'),\n",
                            " ('17b7e43818c82a66', 'Keeping IT & Cloud Governance, Security and Costs in check')]"
                        ]
                    },
                    "metadata": {},
                    "execution_count": 3
                }
            ],
            "metadata": {}
        },
        {
            "cell_type": "code",
            "execution_count": null,
            "metadata": {},
            "outputs": [],
            "source": [
                "Indecor.__repr__()"
            ]
        },
        {
            "cell_type": "code",
            "execution_count": 4,
            "metadata": {},
            "outputs": [],
            "source": [
                "def email_list(self, message_format=None):\n",
                "    \"\"\"\n",
                "    message_format options: None, full, metadata, minimal, raw\n",
                "    \"\"\"\n",
                "    li= self._messages_api().list(userId=self.user_id).execute()\n",
                "    emails = [self._messages_api().get(userId=self.user_id, id=message['id'], format=message_format).execute() for message in li['messages']]\n",
                "    # emails = [message['id'] for message in li['messages']]\n",
                "\n",
                "    return emails\n"
            ]
        },
        {
            "cell_type": "code",
            "execution_count": 5,
            "metadata": {},
            "outputs": [],
            "source": [
                "import base64\n",
                "import email\n",
                "\n",
                "message = email_list(Indecor, 'raw')[0]\n",
                "email_message = email.message.EmailMessage((message['raw']))\n",
                "my_mime_message = email.message_from_bytes(base64.urlsafe_b64decode(message['raw']))\n",
                "# # pprint(message)\n",
                "# pprint(base64.urlsafe_b64decode(message['raw']).decode('utf-8'))\n",
                "# pprint(base64.urlsafe_b64decode(message.encode(\"utf-8\")).decode(\"utf-8\"))"
            ]
        },
        {
            "cell_type": "code",
            "execution_count": 43,
            "metadata": {},
            "outputs": [
                {
                    "output_type": "error",
                    "ename": "RefreshError",
                    "evalue": "('invalid_client: Unauthorized', {'error': 'invalid_client', 'error_description': 'Unauthorized'})",
                    "traceback": [
                        "\u001b[0;31m---------------------------------------------------------------------------\u001b[0m",
                        "\u001b[0;31mRefreshError\u001b[0m                              Traceback (most recent call last)",
                        "\u001b[0;32m<ipython-input-43-c9c9091c9dd3>\u001b[0m in \u001b[0;36m<module>\u001b[0;34m\u001b[0m\n\u001b[1;32m      1\u001b[0m \u001b[0;31m# service = Indecor.service\u001b[0m\u001b[0;34m\u001b[0m\u001b[0;34m\u001b[0m\u001b[0;34m\u001b[0m\u001b[0m\n\u001b[0;32m----> 2\u001b[0;31m \u001b[0mservice\u001b[0m\u001b[0;34m.\u001b[0m\u001b[0musers\u001b[0m\u001b[0;34m(\u001b[0m\u001b[0;34m)\u001b[0m\u001b[0;34m.\u001b[0m\u001b[0mgetProfile\u001b[0m\u001b[0;34m(\u001b[0m\u001b[0muserId\u001b[0m\u001b[0;34m=\u001b[0m\u001b[0mIndecor\u001b[0m\u001b[0;34m.\u001b[0m\u001b[0muser_id\u001b[0m\u001b[0;34m)\u001b[0m\u001b[0;34m.\u001b[0m\u001b[0mexecute\u001b[0m\u001b[0;34m(\u001b[0m\u001b[0;34m)\u001b[0m\u001b[0;34m\u001b[0m\u001b[0;34m\u001b[0m\u001b[0m\n\u001b[0m",
                        "\u001b[0;32m~/anaconda3/envs/pydev/lib/python3.6/site-packages/googleapiclient/_helpers.py\u001b[0m in \u001b[0;36mpositional_wrapper\u001b[0;34m(*args, **kwargs)\u001b[0m\n\u001b[1;32m    129\u001b[0m                 \u001b[0;32melif\u001b[0m \u001b[0mpositional_parameters_enforcement\u001b[0m \u001b[0;34m==\u001b[0m \u001b[0mPOSITIONAL_WARNING\u001b[0m\u001b[0;34m:\u001b[0m\u001b[0;34m\u001b[0m\u001b[0;34m\u001b[0m\u001b[0m\n\u001b[1;32m    130\u001b[0m                     \u001b[0mlogger\u001b[0m\u001b[0;34m.\u001b[0m\u001b[0mwarning\u001b[0m\u001b[0;34m(\u001b[0m\u001b[0mmessage\u001b[0m\u001b[0;34m)\u001b[0m\u001b[0;34m\u001b[0m\u001b[0;34m\u001b[0m\u001b[0m\n\u001b[0;32m--> 131\u001b[0;31m             \u001b[0;32mreturn\u001b[0m \u001b[0mwrapped\u001b[0m\u001b[0;34m(\u001b[0m\u001b[0;34m*\u001b[0m\u001b[0margs\u001b[0m\u001b[0;34m,\u001b[0m \u001b[0;34m**\u001b[0m\u001b[0mkwargs\u001b[0m\u001b[0;34m)\u001b[0m\u001b[0;34m\u001b[0m\u001b[0;34m\u001b[0m\u001b[0m\n\u001b[0m\u001b[1;32m    132\u001b[0m \u001b[0;34m\u001b[0m\u001b[0m\n\u001b[1;32m    133\u001b[0m         \u001b[0;32mreturn\u001b[0m \u001b[0mpositional_wrapper\u001b[0m\u001b[0;34m\u001b[0m\u001b[0;34m\u001b[0m\u001b[0m\n",
                        "\u001b[0;32m~/anaconda3/envs/pydev/lib/python3.6/site-packages/googleapiclient/http.py\u001b[0m in \u001b[0;36mexecute\u001b[0;34m(self, http, num_retries)\u001b[0m\n\u001b[1;32m    929\u001b[0m             \u001b[0mmethod\u001b[0m\u001b[0;34m=\u001b[0m\u001b[0mstr\u001b[0m\u001b[0;34m(\u001b[0m\u001b[0mself\u001b[0m\u001b[0;34m.\u001b[0m\u001b[0mmethod\u001b[0m\u001b[0;34m)\u001b[0m\u001b[0;34m,\u001b[0m\u001b[0;34m\u001b[0m\u001b[0;34m\u001b[0m\u001b[0m\n\u001b[1;32m    930\u001b[0m             \u001b[0mbody\u001b[0m\u001b[0;34m=\u001b[0m\u001b[0mself\u001b[0m\u001b[0;34m.\u001b[0m\u001b[0mbody\u001b[0m\u001b[0;34m,\u001b[0m\u001b[0;34m\u001b[0m\u001b[0;34m\u001b[0m\u001b[0m\n\u001b[0;32m--> 931\u001b[0;31m             \u001b[0mheaders\u001b[0m\u001b[0;34m=\u001b[0m\u001b[0mself\u001b[0m\u001b[0;34m.\u001b[0m\u001b[0mheaders\u001b[0m\u001b[0;34m,\u001b[0m\u001b[0;34m\u001b[0m\u001b[0;34m\u001b[0m\u001b[0m\n\u001b[0m\u001b[1;32m    932\u001b[0m         )\n\u001b[1;32m    933\u001b[0m \u001b[0;34m\u001b[0m\u001b[0m\n",
                        "\u001b[0;32m~/anaconda3/envs/pydev/lib/python3.6/site-packages/googleapiclient/http.py\u001b[0m in \u001b[0;36m_retry_request\u001b[0;34m(http, num_retries, req_type, sleep, rand, uri, method, *args, **kwargs)\u001b[0m\n\u001b[1;32m    188\u001b[0m         \u001b[0;32mtry\u001b[0m\u001b[0;34m:\u001b[0m\u001b[0;34m\u001b[0m\u001b[0;34m\u001b[0m\u001b[0m\n\u001b[1;32m    189\u001b[0m             \u001b[0mexception\u001b[0m \u001b[0;34m=\u001b[0m \u001b[0;32mNone\u001b[0m\u001b[0;34m\u001b[0m\u001b[0;34m\u001b[0m\u001b[0m\n\u001b[0;32m--> 190\u001b[0;31m             \u001b[0mresp\u001b[0m\u001b[0;34m,\u001b[0m \u001b[0mcontent\u001b[0m \u001b[0;34m=\u001b[0m \u001b[0mhttp\u001b[0m\u001b[0;34m.\u001b[0m\u001b[0mrequest\u001b[0m\u001b[0;34m(\u001b[0m\u001b[0muri\u001b[0m\u001b[0;34m,\u001b[0m \u001b[0mmethod\u001b[0m\u001b[0;34m,\u001b[0m \u001b[0;34m*\u001b[0m\u001b[0margs\u001b[0m\u001b[0;34m,\u001b[0m \u001b[0;34m**\u001b[0m\u001b[0mkwargs\u001b[0m\u001b[0;34m)\u001b[0m\u001b[0;34m\u001b[0m\u001b[0;34m\u001b[0m\u001b[0m\n\u001b[0m\u001b[1;32m    191\u001b[0m         \u001b[0;31m# Retry on SSL errors and socket timeout errors.\u001b[0m\u001b[0;34m\u001b[0m\u001b[0;34m\u001b[0m\u001b[0;34m\u001b[0m\u001b[0m\n\u001b[1;32m    192\u001b[0m         \u001b[0;32mexcept\u001b[0m \u001b[0m_ssl_SSLError\u001b[0m \u001b[0;32mas\u001b[0m \u001b[0mssl_error\u001b[0m\u001b[0;34m:\u001b[0m\u001b[0;34m\u001b[0m\u001b[0;34m\u001b[0m\u001b[0m\n",
                        "\u001b[0;32m~/anaconda3/envs/pydev/lib/python3.6/site-packages/google_auth_httplib2.py\u001b[0m in \u001b[0;36mrequest\u001b[0;34m(self, uri, method, body, headers, redirections, connection_type, **kwargs)\u001b[0m\n\u001b[1;32m    207\u001b[0m         \u001b[0mrequest_headers\u001b[0m \u001b[0;34m=\u001b[0m \u001b[0mheaders\u001b[0m\u001b[0;34m.\u001b[0m\u001b[0mcopy\u001b[0m\u001b[0;34m(\u001b[0m\u001b[0;34m)\u001b[0m \u001b[0;32mif\u001b[0m \u001b[0mheaders\u001b[0m \u001b[0;32mis\u001b[0m \u001b[0;32mnot\u001b[0m \u001b[0;32mNone\u001b[0m \u001b[0;32melse\u001b[0m \u001b[0;34m{\u001b[0m\u001b[0;34m}\u001b[0m\u001b[0;34m\u001b[0m\u001b[0;34m\u001b[0m\u001b[0m\n\u001b[1;32m    208\u001b[0m \u001b[0;34m\u001b[0m\u001b[0m\n\u001b[0;32m--> 209\u001b[0;31m         \u001b[0mself\u001b[0m\u001b[0;34m.\u001b[0m\u001b[0mcredentials\u001b[0m\u001b[0;34m.\u001b[0m\u001b[0mbefore_request\u001b[0m\u001b[0;34m(\u001b[0m\u001b[0mself\u001b[0m\u001b[0;34m.\u001b[0m\u001b[0m_request\u001b[0m\u001b[0;34m,\u001b[0m \u001b[0mmethod\u001b[0m\u001b[0;34m,\u001b[0m \u001b[0muri\u001b[0m\u001b[0;34m,\u001b[0m \u001b[0mrequest_headers\u001b[0m\u001b[0;34m)\u001b[0m\u001b[0;34m\u001b[0m\u001b[0;34m\u001b[0m\u001b[0m\n\u001b[0m\u001b[1;32m    210\u001b[0m \u001b[0;34m\u001b[0m\u001b[0m\n\u001b[1;32m    211\u001b[0m         \u001b[0;31m# Check if the body is a file-like stream, and if so, save the body\u001b[0m\u001b[0;34m\u001b[0m\u001b[0;34m\u001b[0m\u001b[0;34m\u001b[0m\u001b[0m\n",
                        "\u001b[0;32m~/anaconda3/envs/pydev/lib/python3.6/site-packages/google/auth/credentials.py\u001b[0m in \u001b[0;36mbefore_request\u001b[0;34m(self, request, method, url, headers)\u001b[0m\n\u001b[1;32m    128\u001b[0m         \u001b[0;31m# the http request.)\u001b[0m\u001b[0;34m\u001b[0m\u001b[0;34m\u001b[0m\u001b[0;34m\u001b[0m\u001b[0m\n\u001b[1;32m    129\u001b[0m         \u001b[0;32mif\u001b[0m \u001b[0;32mnot\u001b[0m \u001b[0mself\u001b[0m\u001b[0;34m.\u001b[0m\u001b[0mvalid\u001b[0m\u001b[0;34m:\u001b[0m\u001b[0;34m\u001b[0m\u001b[0;34m\u001b[0m\u001b[0m\n\u001b[0;32m--> 130\u001b[0;31m             \u001b[0mself\u001b[0m\u001b[0;34m.\u001b[0m\u001b[0mrefresh\u001b[0m\u001b[0;34m(\u001b[0m\u001b[0mrequest\u001b[0m\u001b[0;34m)\u001b[0m\u001b[0;34m\u001b[0m\u001b[0;34m\u001b[0m\u001b[0m\n\u001b[0m\u001b[1;32m    131\u001b[0m         \u001b[0mself\u001b[0m\u001b[0;34m.\u001b[0m\u001b[0mapply\u001b[0m\u001b[0;34m(\u001b[0m\u001b[0mheaders\u001b[0m\u001b[0;34m)\u001b[0m\u001b[0;34m\u001b[0m\u001b[0;34m\u001b[0m\u001b[0m\n\u001b[1;32m    132\u001b[0m \u001b[0;34m\u001b[0m\u001b[0m\n",
                        "\u001b[0;32m~/anaconda3/envs/pydev/lib/python3.6/site-packages/google/oauth2/credentials.py\u001b[0m in \u001b[0;36mrefresh\u001b[0;34m(self, request)\u001b[0m\n\u001b[1;32m    296\u001b[0m             \u001b[0mself\u001b[0m\u001b[0;34m.\u001b[0m\u001b[0m_client_secret\u001b[0m\u001b[0;34m,\u001b[0m\u001b[0;34m\u001b[0m\u001b[0;34m\u001b[0m\u001b[0m\n\u001b[1;32m    297\u001b[0m             \u001b[0mscopes\u001b[0m\u001b[0;34m=\u001b[0m\u001b[0mscopes\u001b[0m\u001b[0;34m,\u001b[0m\u001b[0;34m\u001b[0m\u001b[0;34m\u001b[0m\u001b[0m\n\u001b[0;32m--> 298\u001b[0;31m             \u001b[0mrapt_token\u001b[0m\u001b[0;34m=\u001b[0m\u001b[0mself\u001b[0m\u001b[0;34m.\u001b[0m\u001b[0m_rapt_token\u001b[0m\u001b[0;34m,\u001b[0m\u001b[0;34m\u001b[0m\u001b[0;34m\u001b[0m\u001b[0m\n\u001b[0m\u001b[1;32m    299\u001b[0m         )\n\u001b[1;32m    300\u001b[0m \u001b[0;34m\u001b[0m\u001b[0m\n",
                        "\u001b[0;32m~/anaconda3/envs/pydev/lib/python3.6/site-packages/google/oauth2/reauth.py\u001b[0m in \u001b[0;36mrefresh_grant\u001b[0;34m(request, token_uri, refresh_token, client_id, client_secret, scopes, rapt_token)\u001b[0m\n\u001b[1;32m    334\u001b[0m \u001b[0;34m\u001b[0m\u001b[0m\n\u001b[1;32m    335\u001b[0m     \u001b[0;32mif\u001b[0m \u001b[0;32mnot\u001b[0m \u001b[0mresponse_status_ok\u001b[0m\u001b[0;34m:\u001b[0m\u001b[0;34m\u001b[0m\u001b[0;34m\u001b[0m\u001b[0m\n\u001b[0;32m--> 336\u001b[0;31m         \u001b[0m_client\u001b[0m\u001b[0;34m.\u001b[0m\u001b[0m_handle_error_response\u001b[0m\u001b[0;34m(\u001b[0m\u001b[0mresponse_data\u001b[0m\u001b[0;34m)\u001b[0m\u001b[0;34m\u001b[0m\u001b[0;34m\u001b[0m\u001b[0m\n\u001b[0m\u001b[1;32m    337\u001b[0m     return _client._handle_refresh_grant_response(response_data, refresh_token) + (\n\u001b[1;32m    338\u001b[0m         \u001b[0mrapt_token\u001b[0m\u001b[0;34m,\u001b[0m\u001b[0;34m\u001b[0m\u001b[0;34m\u001b[0m\u001b[0m\n",
                        "\u001b[0;32m~/anaconda3/envs/pydev/lib/python3.6/site-packages/google/oauth2/_client.py\u001b[0m in \u001b[0;36m_handle_error_response\u001b[0;34m(response_data)\u001b[0m\n\u001b[1;32m     56\u001b[0m         \u001b[0merror_details\u001b[0m \u001b[0;34m=\u001b[0m \u001b[0mjson\u001b[0m\u001b[0;34m.\u001b[0m\u001b[0mdumps\u001b[0m\u001b[0;34m(\u001b[0m\u001b[0mresponse_data\u001b[0m\u001b[0;34m)\u001b[0m\u001b[0;34m\u001b[0m\u001b[0;34m\u001b[0m\u001b[0m\n\u001b[1;32m     57\u001b[0m \u001b[0;34m\u001b[0m\u001b[0m\n\u001b[0;32m---> 58\u001b[0;31m     \u001b[0;32mraise\u001b[0m \u001b[0mexceptions\u001b[0m\u001b[0;34m.\u001b[0m\u001b[0mRefreshError\u001b[0m\u001b[0;34m(\u001b[0m\u001b[0merror_details\u001b[0m\u001b[0;34m,\u001b[0m \u001b[0mresponse_data\u001b[0m\u001b[0;34m)\u001b[0m\u001b[0;34m\u001b[0m\u001b[0;34m\u001b[0m\u001b[0m\n\u001b[0m\u001b[1;32m     59\u001b[0m \u001b[0;34m\u001b[0m\u001b[0m\n\u001b[1;32m     60\u001b[0m \u001b[0;34m\u001b[0m\u001b[0m\n",
                        "\u001b[0;31mRefreshError\u001b[0m: ('invalid_client: Unauthorized', {'error': 'invalid_client', 'error_description': 'Unauthorized'})"
                    ]
                }
            ],
            "source": [
                "# service = Indecor.service\n",
                "service.users().getProfile(userId=Indecor.user_id).execute()"
            ]
        },
        {
            "cell_type": "code",
            "execution_count": 35,
            "metadata": {},
            "outputs": [
                {
                    "output_type": "execute_result",
                    "data": {
                        "text/plain": [
                            "{'id': '17b7e9da190bdf5b',\n",
                            " 'threadId': '17b7e9d38e2a9fe8',\n",
                            " 'labelIds': ['UNREAD', 'IMPORTANT', 'SENT', 'INBOX'],\n",
                            " 'snippet': 'Hi, I&#39;m a body PaRagRaPh @!SDXCV^',\n",
                            " 'sizeEstimate': 661,\n",
                            " 'raw': 'TUlNRS1WZXJzaW9uOiAxLjANCkRhdGU6IFdlZCwgMjUgQXVnIDIwMjEgMTQ6NDE6MDQgLTA0MDANCk1lc3NhZ2UtSUQ6IDxDQUZHRXNQdjFoV2UzdUJDaTNMWHdXaG92bTdXTWF1YzlNQ0pkaWJ3PXFYaFVPQnRSN1FAbWFpbC5nbWFpbC5jb20-DQpTdWJqZWN0OiBJJ20gYSBTdWJqZWN0IExpTmUNCkZyb206IEluZGVjb3IgUHJlZGljYXRlIDxpbmRlY29ycHJlZGljYXRlQGdtYWlsLmNvbT4NClRvOiBJbmRlY29yIFByZWRpY2F0ZSA8aW5kZWNvcnByZWRpY2F0ZUBnbWFpbC5jb20-DQpDb250ZW50LVR5cGU6IG11bHRpcGFydC9hbHRlcm5hdGl2ZTsgYm91bmRhcnk9IjAwMDAwMDAwMDAwMGJjYjQwYjA1Y2E2Njk3YzYiDQoNCi0tMDAwMDAwMDAwMDAwYmNiNDBiMDVjYTY2OTdjNg0KQ29udGVudC1UeXBlOiB0ZXh0L3BsYWluOyBjaGFyc2V0PSJVVEYtOCINCg0KSGksDQpJJ20gYSBib2R5IFBhUmFnUmFQaA0KQCFTRFhDVl4NCg0KLS0wMDAwMDAwMDAwMDBiY2I0MGIwNWNhNjY5N2M2DQpDb250ZW50LVR5cGU6IHRleHQvaHRtbDsgY2hhcnNldD0iVVRGLTgiDQoNCjxkaXYgZGlyPSJsdHIiPkhpLDxkaXY-SSYjMzk7bSBhIGJvZHkgUGFSYWdSYVBoPC9kaXY-PGRpdj5AIVNEWENWXjwvZGl2PjwvZGl2Pg0KDQotLTAwMDAwMDAwMDAwMGJjYjQwYjA1Y2E2Njk3YzYtLQ==',\n",
                            " 'historyId': '6564',\n",
                            " 'internalDate': '1629916864000'}"
                        ]
                    },
                    "metadata": {},
                    "execution_count": 35
                }
            ],
            "source": [
                "email_list(Indecor, \"raw\")[0]"
            ]
        },
        {
            "cell_type": "code",
            "execution_count": 28,
            "metadata": {},
            "outputs": [
                {
                    "output_type": "stream",
                    "name": "stdout",
                    "text": [
                        "['MIME-Version', 'Date', 'Message-ID', 'Subject', 'From', 'To', 'Content-Type']\nContent-Type: text/plain; charset=\"UTF-8\"\n\nHi,\nI'm a body PaRagRaPh\n@!SDXCV^\n\n"
                    ]
                }
            ],
            "source": [
                "rawmessage = email_list(Indecor, 'raw')[0]['raw']\n",
                "bmessage = base64.urlsafe_b64decode(rawmessage)\n",
                "strmessage = bmessage.decode()\n",
                "# print(strmessage)\n",
                "#     # print('Message sni])\n",
                "# msg_str = base64.urlsafe_b64decode(message['raw'].encode(\"utf-8\")).decode(\"utf-8\")\n",
                "# mime_msg = email.message_from_string(msg_str)\n",
                "# parsed = email.parser.Parser(policy=email.policy.default).parsestr(strmessage)\n",
                "parsed = email.parser.BytesParser(policy=email.policy.SMTP).parsebytes(bmessage)\n",
                "# type(parsed)\n",
                "print(parsed.keys())\n",
                "# mes1,mes2 = (mes for mes in parsed.get_payload())\n",
                "# print(mes1.keys())\n",
                "# print(mes2)\n",
                "print(parsed.get_body(('plain')))\n"
            ]
        },
        {
            "cell_type": "code",
            "execution_count": 17,
            "metadata": {},
            "outputs": [
                {
                    "output_type": "stream",
                    "name": "stdout",
                    "text": [
                        "[{'MIME-Version': '1.0'}, {'Date': 'Wed, 25 Aug 2021 14:41:04 -0400'}, {'Message-ID': '<CAFGEsPv1hWe3uBCi3LXwWhovm7WMauc9MCJdibw=qXhUOBtR7Q@mail.gmail.com>'}, {'Subject': \"I'm a Subject LiNe\"}, {'From': 'Indecor Predicate <indecorpredicate@gmail.com>'}, {'To': 'Indecor Predicate <indecorpredicate@gmail.com>'}, {'Content-Type': 'multipart/alternative; boundary=\"000000000000bcb40b05ca6697c6\"'}]\n"
                    ]
                }
            ],
            "source": [
                "print([{head:parsed[head]} for head in parsed.keys()])"
            ]
        },
        {
            "cell_type": "code",
            "execution_count": 41,
            "metadata": {},
            "outputs": [
                {
                    "output_type": "stream",
                    "name": "stdout",
                    "text": [
                        "{'MIME-Version': '1.0', 'Date': 'Wed, 25 Aug 2021 14:41:04 -0400', 'Message-ID': '<CAFGEsPv1hWe3uBCi3LXwWhovm7WMauc9MCJdibw=qXhUOBtR7Q@mail.gmail.com>', 'Subject': \"I'm a Subject LiNe\", 'From': 'Indecor Predicate <indecorpredicate@gmail.com>', 'To': 'Indecor Predicate <indecorpredicate@gmail.com>', 'Content-Type': 'multipart/alternative; boundary=\"000000000000bcb40b05ca6697c6\"'}\n"
                    ]
                }
            ],
            "source": [
                "print(dict(parsed))"
            ]
        },
        {
            "cell_type": "code",
            "execution_count": 9,
            "metadata": {},
            "outputs": [
                {
                    "output_type": "error",
                    "ename": "AttributeError",
                    "evalue": "'str' object has no attribute 'clone'",
                    "traceback": [
                        "\u001b[0;31m---------------------------------------------------------------------------\u001b[0m",
                        "\u001b[0;31mAttributeError\u001b[0m                            Traceback (most recent call last)",
                        "\u001b[0;32m<ipython-input-9-6be8129f8618>\u001b[0m in \u001b[0;36m<module>\u001b[0;34m\u001b[0m\n\u001b[1;32m      3\u001b[0m \u001b[0;31m# pprint(my_mime_message.as_string())\u001b[0m\u001b[0;34m\u001b[0m\u001b[0;34m\u001b[0m\u001b[0;34m\u001b[0m\u001b[0m\n\u001b[1;32m      4\u001b[0m \u001b[0;31m# my_mime_message.get('body')\u001b[0m\u001b[0;34m\u001b[0m\u001b[0;34m\u001b[0m\u001b[0;34m\u001b[0m\u001b[0m\n\u001b[0;32m----> 5\u001b[0;31m \u001b[0mprint\u001b[0m\u001b[0;34m(\u001b[0m\u001b[0memail_message\u001b[0m\u001b[0;34m.\u001b[0m\u001b[0mget_body\u001b[0m\u001b[0;34m(\u001b[0m\u001b[0;34m)\u001b[0m\u001b[0;34m)\u001b[0m\u001b[0;34m\u001b[0m\u001b[0;34m\u001b[0m\u001b[0m\n\u001b[0m",
                        "\u001b[0;32m~/anaconda3/envs/pydev/lib/python3.6/email/message.py\u001b[0m in \u001b[0;36m__str__\u001b[0;34m(self)\u001b[0m\n\u001b[1;32m    969\u001b[0m \u001b[0;34m\u001b[0m\u001b[0m\n\u001b[1;32m    970\u001b[0m     \u001b[0;32mdef\u001b[0m \u001b[0m__str__\u001b[0m\u001b[0;34m(\u001b[0m\u001b[0mself\u001b[0m\u001b[0;34m)\u001b[0m\u001b[0;34m:\u001b[0m\u001b[0;34m\u001b[0m\u001b[0;34m\u001b[0m\u001b[0m\n\u001b[0;32m--> 971\u001b[0;31m         \u001b[0;32mreturn\u001b[0m \u001b[0mself\u001b[0m\u001b[0;34m.\u001b[0m\u001b[0mas_string\u001b[0m\u001b[0;34m(\u001b[0m\u001b[0mpolicy\u001b[0m\u001b[0;34m=\u001b[0m\u001b[0mself\u001b[0m\u001b[0;34m.\u001b[0m\u001b[0mpolicy\u001b[0m\u001b[0;34m.\u001b[0m\u001b[0mclone\u001b[0m\u001b[0;34m(\u001b[0m\u001b[0mutf8\u001b[0m\u001b[0;34m=\u001b[0m\u001b[0;32mTrue\u001b[0m\u001b[0;34m)\u001b[0m\u001b[0;34m)\u001b[0m\u001b[0;34m\u001b[0m\u001b[0;34m\u001b[0m\u001b[0m\n\u001b[0m\u001b[1;32m    972\u001b[0m \u001b[0;34m\u001b[0m\u001b[0m\n\u001b[1;32m    973\u001b[0m     \u001b[0;32mdef\u001b[0m \u001b[0mis_attachment\u001b[0m\u001b[0;34m(\u001b[0m\u001b[0mself\u001b[0m\u001b[0;34m)\u001b[0m\u001b[0;34m:\u001b[0m\u001b[0;34m\u001b[0m\u001b[0;34m\u001b[0m\u001b[0m\n",
                        "\u001b[0;31mAttributeError\u001b[0m: 'str' object has no attribute 'clone'"
                    ]
                }
            ],
            "source": [
                "# pprint(mime_message.as_string())\n",
                "# print()\n",
                "# pprint(my_mime_message.as_string())\n",
                "# my_mime_message.get('body')\n",
                "print(email_message.get_body())"
            ]
        },
        {
            "cell_type": "code",
            "execution_count": 16,
            "metadata": {},
            "outputs": [
                {
                    "output_type": "stream",
                    "name": "stdout",
                    "text": [
                        "dict_keys(['id', 'threadId', 'labelIds', 'snippet', 'payload', 'sizeEstimate', 'historyId', 'internalDate'])\n{'historyId': '6518',\n 'id': '17b7e9da190bdf5b',\n 'internalDate': '1629916864000',\n 'labelIds': ['UNREAD', 'IMPORTANT', 'SENT', 'INBOX'],\n 'payload': {'body': {'size': 0},\n             'filename': '',\n             'headers': [{'name': 'MIME-Version', 'value': '1.0'},\n                         {'name': 'Date',\n                          'value': 'Wed, 25 Aug 2021 14:41:04 -0400'},\n                         {'name': 'Message-ID',\n                          'value': '<CAFGEsPv1hWe3uBCi3LXwWhovm7WMauc9MCJdibw=qXhUOBtR7Q@mail.gmail.com>'},\n                         {'name': 'Subject', 'value': \"I'm a Subject LiNe\"},\n                         {'name': 'From',\n                          'value': 'Indecor Predicate '\n                                   '<indecorpredicate@gmail.com>'},\n                         {'name': 'To',\n                          'value': 'Indecor Predicate '\n                                   '<indecorpredicate@gmail.com>'},\n                         {'name': 'Content-Type',\n                          'value': 'multipart/alternative; '\n                                   'boundary=\"000000000000bcb40b05ca6697c6\"'}],\n             'mimeType': 'multipart/alternative',\n             'partId': '',\n             'parts': [{'body': {'data': 'SGksDQpJJ20gYSBib2R5IFBhUmFnUmFQaA0KQCFTRFhDVl4NCg==',\n                                 'size': 37},\n                        'filename': '',\n                        'headers': [{'name': 'Content-Type',\n                                     'value': 'text/plain; charset=\"UTF-8\"'}],\n                        'mimeType': 'text/plain',\n                        'partId': '0'},\n                       {'body': {'data': 'PGRpdiBkaXI9Imx0ciI-SGksPGRpdj5JJiMzOTttIGEgYm9keSBQYVJhZ1JhUGg8L2Rpdj48ZGl2PkAhU0RYQ1ZePC9kaXY-PC9kaXY-DQo=',\n                                 'size': 80},\n                        'filename': '',\n                        'headers': [{'name': 'Content-Type',\n                                     'value': 'text/html; charset=\"UTF-8\"'}],\n                        'mimeType': 'text/html',\n                        'partId': '1'}]},\n 'sizeEstimate': 661,\n 'snippet': 'Hi, I&#39;m a body PaRagRaPh @!SDXCV^',\n 'threadId': '17b7e9d38e2a9fe8'}\n\ndict_keys(['id', 'threadId', 'labelIds', 'snippet', 'payload', 'sizeEstimate', 'historyId', 'internalDate'])\n{'historyId': '5745',\n 'id': '17b738ec272c25d3',\n 'internalDate': '1629731340000',\n 'labelIds': ['SENT', 'INBOX'],\n 'payload': {'body': {'size': 0},\n             'filename': '',\n             'headers': [{'name': 'Return-Path',\n                          'value': '<indecorpredicate@gmail.com>'},\n                         {'name': 'Received',\n                          'value': 'from '\n                                   '467488332884-nkn4j4q35qgq66vterij95d56limmhn5.apps.googleusercontent.com '\n                                   '([2600:1700:e0c0:1520:3cb0:1328:864b:9758])        '\n                                   'by smtp.gmail.com with ESMTPSA id '\n                                   'e7sm2920389oom.26.2021.08.23.08.09.00        '\n                                   'for <indecorpredicate@gmail.com>        '\n                                   '(version=TLS1_3 '\n                                   'cipher=TLS_AES_256_GCM_SHA384 '\n                                   'bits=256/256);        Mon, 23 Aug 2021 '\n                                   '08:09:00 -0700 (PDT)'},\n                         {'name': 'Content-Type',\n                          'value': 'multipart/mixed; '\n                                   'boundary=\"===============7101391875550289361==\"'},\n                         {'name': 'MIME-Version', 'value': '1.0'},\n                         {'name': 'Date',\n                          'value': 'Mon, 23 Aug 2021 15:09:00 -0000'},\n                         {'name': 'Subject', 'value': 'Great!'},\n                         {'name': 'From',\n                          'value': '\"indecorpredicate@gmail.com\" '\n                                   '<indecorpredicate@gmail.com>'},\n                         {'name': 'To', 'value': 'indecorpredicate@gmail.com'},\n                         {'name': 'Message-ID',\n                          'value': '<3cdb6814c37eec1684f00e16d17a6ed8@yagmail>'}],\n             'mimeType': 'multipart/mixed',\n             'partId': '',\n             'parts': [{'body': {'size': 0},\n                        'filename': '',\n                        'headers': [{'name': 'Content-Type',\n                                     'value': 'multipart/alternative; '\n                                              'boundary=\"===============6983465935612790060==\"'},\n                                    {'name': 'MIME-Version', 'value': '1.0'}],\n                        'mimeType': 'multipart/alternative',\n                        'partId': '0',\n                        'parts': [{'body': {'data': '', 'size': 0},\n                                   'filename': '',\n                                   'headers': [{'name': 'Content-Type',\n                                                'value': 'text/plain; '\n                                                         'charset=\"utf-8\"'},\n                                               {'name': 'MIME-Version',\n                                                'value': '1.0'},\n                                               {'name': 'Content-Transfer-Encoding',\n                                                'value': 'base64'}],\n                                   'mimeType': 'text/plain',\n                                   'partId': '0.0'},\n                                  {'body': {'size': 0},\n                                   'filename': '',\n                                   'headers': [{'name': 'Content-Type',\n                                                'value': 'multipart/related; '\n                                                         'boundary=\"===============7732181447735651248==\"'},\n                                               {'name': 'MIME-Version',\n                                                'value': '1.0'}],\n                                   'mimeType': 'multipart/related',\n                                   'partId': '0.1',\n                                   'parts': [{'body': {'data': '', 'size': 0},\n                                              'filename': '',\n                                              'headers': [{'name': 'Content-Type',\n                                                           'value': 'text/html; '\n                                                                    'charset=\"utf-8\"'},\n                                                          {'name': 'MIME-Version',\n                                                           'value': '1.0'},\n                                                          {'name': 'Content-Transfer-Encoding',\n                                                           'value': 'base64'}],\n                                              'mimeType': 'text/html',\n                                              'partId': '0.1.0'}]}]}]},\n 'sizeEstimate': 1427,\n 'snippet': '',\n 'threadId': '17b738ead5dc25d3'}\n\ndict_keys(['id', 'threadId', 'labelIds', 'snippet', 'payload', 'sizeEstimate', 'historyId', 'internalDate'])\n{'historyId': '5745',\n 'id': '17b738ead5dc25d3',\n 'internalDate': '1629731335000',\n 'labelIds': ['SENT', 'INBOX'],\n 'payload': {'body': {'size': 0},\n             'filename': '',\n             'headers': [{'name': 'Return-Path',\n                          'value': '<indecorpredicate@gmail.com>'},\n                         {'name': 'Received',\n                          'value': 'from '\n                                   '467488332884-nkn4j4q35qgq66vterij95d56limmhn5.apps.googleusercontent.com '\n                                   '([2600:1700:e0c0:1520:3cb0:1328:864b:9758])        '\n                                   'by smtp.gmail.com with ESMTPSA id '\n                                   'x3sm3358845ooe.32.2021.08.23.08.08.55        '\n                                   'for <indecorpredicate@gmail.com>        '\n                                   '(version=TLS1_3 '\n                                   'cipher=TLS_AES_256_GCM_SHA384 '\n                                   'bits=256/256);        Mon, 23 Aug 2021 '\n                                   '08:08:55 -0700 (PDT)'},\n                         {'name': 'Content-Type',\n                          'value': 'multipart/mixed; '\n                                   'boundary=\"===============1038798859575096731==\"'},\n                         {'name': 'MIME-Version', 'value': '1.0'},\n                         {'name': 'Date',\n                          'value': 'Mon, 23 Aug 2021 15:08:55 -0000'},\n                         {'name': 'Subject', 'value': 'Great!'},\n                         {'name': 'From',\n                          'value': '\"indecorpredicate@gmail.com\" '\n                                   '<indecorpredicate@gmail.com>'},\n                         {'name': 'To', 'value': 'indecorpredicate@gmail.com'},\n                         {'name': 'Message-ID',\n                          'value': '<3cdb6814c37eec1684f00e16d17a6ed8@yagmail>'}],\n             'mimeType': 'multipart/mixed',\n             'partId': '',\n             'parts': [{'body': {'size': 0},\n                        'filename': '',\n                        'headers': [{'name': 'Content-Type',\n                                     'value': 'multipart/alternative; '\n                                              'boundary=\"===============2422297158219579082==\"'},\n                                    {'name': 'MIME-Version', 'value': '1.0'}],\n                        'mimeType': 'multipart/alternative',\n                        'partId': '0',\n                        'parts': [{'body': {'data': '', 'size': 0},\n                                   'filename': '',\n                                   'headers': [{'name': 'Content-Type',\n                                                'value': 'text/plain; '\n                                                         'charset=\"utf-8\"'},\n                                               {'name': 'MIME-Version',\n                                                'value': '1.0'},\n                                               {'name': 'Content-Transfer-Encoding',\n                                                'value': 'base64'}],\n                                   'mimeType': 'text/plain',\n                                   'partId': '0.0'},\n                                  {'body': {'size': 0},\n                                   'filename': '',\n                                   'headers': [{'name': 'Content-Type',\n                                                'value': 'multipart/related; '\n                                                         'boundary=\"===============3717798596877922237==\"'},\n                                               {'name': 'MIME-Version',\n                                                'value': '1.0'}],\n                                   'mimeType': 'multipart/related',\n                                   'partId': '0.1',\n                                   'parts': [{'body': {'data': '', 'size': 0},\n                                              'filename': '',\n                                              'headers': [{'name': 'Content-Type',\n                                                           'value': 'text/html; '\n                                                                    'charset=\"utf-8\"'},\n                                                          {'name': 'MIME-Version',\n                                                           'value': '1.0'},\n                                                          {'name': 'Content-Transfer-Encoding',\n                                                           'value': 'base64'}],\n                                              'mimeType': 'text/html',\n                                              'partId': '0.1.0'}]}]}]},\n 'sizeEstimate': 1427,\n 'snippet': '',\n 'threadId': '17b738ead5dc25d3'}\n\ndict_keys(['id', 'threadId', 'labelIds', 'snippet', 'payload', 'sizeEstimate', 'historyId', 'internalDate'])\n{'historyId': '6074',\n 'id': '17b65017f96f8259',\n 'internalDate': '1629487201000',\n 'labelIds': ['CATEGORY_UPDATES', 'INBOX'],\n 'payload': {'body': {'size': 0},\n             'filename': '',\n             'headers': [{'name': 'Delivered-To',\n                          'value': 'indecorpredicate@gmail.com'},\n                         {'name': 'Received',\n                          'value': 'by 2002:a05:6504:304f:0:0:0:0 with SMTP id '\n                                   'f15csp1563380lth;        Fri, 20 Aug 2021 '\n                                   '12:20:02 -0700 (PDT)'},\n                         {'name': 'X-Received',\n                          'value': 'by 2002:a05:620a:29d5:: with SMTP id '\n                                   's21mr10525845qkp.243.1629487202203;        '\n                                   'Fri, 20 Aug 2021 12:20:02 -0700 (PDT)'},\n                         {'name': 'ARC-Seal',\n                          'value': 'i=1; a=rsa-sha256; t=1629487202; '\n                                   'cv=none;        d=google.com; '\n                                   's=arc-20160816;        '\n                                   'b=NXiq4vfoTGVl6BcFHGRdX4vEKGEzG6VAJ46Jfef3nB+DpRBX2uuTfU0jWEsLm/Gnfx         '\n                                   'GhcYHKzbWTLCh/Gue/2f7xRefd6tChriMwMRamrsY4xqzil95dUJqK8xZM6Zfd3eRH+H         '\n                                   'NSxm23hgsX6sFP2RYoH6/dy4ewOSAtinWQpw+6zX127JoR2e1QFTjHwEgJ1Qljw7Pga/         '\n                                   'XS9VAVpv/AYJmq6CKkrp9+KN8jb+42aAvD5Qm+IlA3+5wTxPilZo/nEW/S3JmY470AhE         '\n                                   '/BYenDlpYP53rk9AchgEODAPWB+lESCeRUve5LlGSbWdBaZDwwVUPLIpiXokteLUpfot         '\n                                   'T//w=='},\n                         {'name': 'ARC-Message-Signature',\n                          'value': 'i=1; a=rsa-sha256; c=relaxed/relaxed; '\n                                   'd=google.com; s=arc-20160816;        '\n                                   'h=to:from:subject:message-id:feedback-id:date:mime-version         '\n                                   ':dkim-signature;        '\n                                   'bh=GtnTjaGx0h6JdPTuQt+OEN6AOYYGiu8pwMrz21lOnY0=;        '\n                                   'b=Hi4tdH8Ooi5avOH30FNicacMo7zOy9mP3EaEoS9Wn3UVMB7VrW9Pe/bp1Hs4fQIb3S         '\n                                   '/xJhySPS8oO9MU+XpLX0CumtfeLVZzNYJoEY8MkpmEMEVb5Y/ApyW/IhMXR+Cyegu0Wc         '\n                                   'oFUwjJU61XDoTPQ/B5k5/OogKdsr80nwgjfMx2xrQel0+mc+jx/ZBTTodHrdBdwxZiV7         '\n                                   'i8MkTKL4hBDzFe6Vkrw8/UaJaZ4F+cdUNk2jlIKlZ/prRDv3zfZ7A/JhTBtZBYzQ6H5N         '\n                                   'bTfTcDm/DWZguxvrDQUsEHjagtB/7rhezWQHvclvLH0xzRMoi8+1sjDu7UuuiRjucwOA         '\n                                   'x9MA=='},\n                         {'name': 'ARC-Authentication-Results',\n                          'value': 'i=1; mx.google.com;       dkim=pass '\n                                   'header.i=@accounts.google.com '\n                                   'header.s=20161025 header.b=ht0Vbd5z;       '\n                                   'spf=pass (google.com: domain of '\n                                   '3yqagyqgtapafg-jwhdqsuugmflk.yggydw.uge@gaia.bounces.google.com '\n                                   'designates 209.85.220.73 as permitted '\n                                   'sender) '\n                                   'smtp.mailfrom=3YQAgYQgTAPAfg-jWhdqSUUgmflk.YggYdW.Uge@gaia.bounces.google.com;       '\n                                   'dmarc=pass (p=REJECT sp=REJECT dis=NONE) '\n                                   'header.from=accounts.google.com'},\n                         {'name': 'Return-Path',\n                          'value': '<3YQAgYQgTAPAfg-jWhdqSUUgmflk.YggYdW.Uge@gaia.bounces.google.com>'},\n                         {'name': 'Received',\n                          'value': 'from mail-sor-f73.google.com '\n                                   '(mail-sor-f73.google.com. '\n                                   '[209.85.220.73])        by mx.google.com '\n                                   'with SMTPS id '\n                                   'j15sor2956065qka.166.2021.08.20.12.20.02        '\n                                   'for <indecorpredicate@gmail.com>        '\n                                   '(Google Transport Security);        Fri, '\n                                   '20 Aug 2021 12:20:02 -0700 (PDT)'},\n                         {'name': 'Received-SPF',\n                          'value': 'pass (google.com: domain of '\n                                   '3yqagyqgtapafg-jwhdqsuugmflk.yggydw.uge@gaia.bounces.google.com '\n                                   'designates 209.85.220.73 as permitted '\n                                   'sender) client-ip=209.85.220.73;'},\n                         {'name': 'Authentication-Results',\n                          'value': 'mx.google.com;       dkim=pass '\n                                   'header.i=@accounts.google.com '\n                                   'header.s=20161025 header.b=ht0Vbd5z;       '\n                                   'spf=pass (google.com: domain of '\n                                   '3yqagyqgtapafg-jwhdqsuugmflk.yggydw.uge@gaia.bounces.google.com '\n                                   'designates 209.85.220.73 as permitted '\n                                   'sender) '\n                                   'smtp.mailfrom=3YQAgYQgTAPAfg-jWhdqSUUgmflk.YggYdW.Uge@gaia.bounces.google.com;       '\n                                   'dmarc=pass (p=REJECT sp=REJECT dis=NONE) '\n                                   'header.from=accounts.google.com'},\n                         {'name': 'DKIM-Signature',\n                          'value': 'v=1; a=rsa-sha256; '\n                                   'c=relaxed/relaxed;        '\n                                   'd=accounts.google.com; s=20161025;        '\n                                   'h=mime-version:date:feedback-id:message-id:subject:from:to;        '\n                                   'bh=GtnTjaGx0h6JdPTuQt+OEN6AOYYGiu8pwMrz21lOnY0=;        '\n                                   'b=ht0Vbd5zEUNENnw3GbDGmYi33bcpo0ay+mSwk6/d5fU0ZhvUGfxWMWzR27YTP13Jw1         '\n                                   'VIP9l2EWCBfYn3vOb0ORllACsBxTPEOfo3+gSJLZ2WGMwv2buygyFVe23IYwyPQ79N1R         '\n                                   'gRMdW1CrCzeqopeATOlzO99XVn1x6y3bhmA836EYd4pRBJGtLmF61R8qIyCf0tXNygpg         '\n                                   '1ssCZp+Q3w0LbM3RqszsxWsWhdm00F7bYKh0B4pg8G0WzzMIJfiuCKSQLbIDUxNRZ84i         '\n                                   't14nOB6GAn0Crwzds/2Sw6BIauaOhP1cXYjivT2EQtQmEUjQe7cBHBCx7eImrbGzanw1         '\n                                   'j0Pw=='},\n                         {'name': 'X-Google-DKIM-Signature',\n                          'value': 'v=1; a=rsa-sha256; '\n                                   'c=relaxed/relaxed;        d=1e100.net; '\n                                   's=20161025;        '\n                                   'h=x-gm-message-state:mime-version:date:feedback-id:message-id:subject         '\n                                   ':from:to;        '\n                                   'bh=GtnTjaGx0h6JdPTuQt+OEN6AOYYGiu8pwMrz21lOnY0=;        '\n                                   'b=YpRAFQwYNGp1XZ/9OBhDXkVPyGgcCKe5BfPm0E1NjwoDeeMYnKLcN/TRJLZVtvOElZ         '\n                                   'zdilBhAt3hi7hydrGCOuPbZJ0idTV3oxTCYhVl7Bt3xCquHX78U9bFNyY3oAyf0tvHoK         '\n                                   'QtvoSAGQw5Pw1RaQoeTgSPS+NJ3bJ4fZMLDBiJP2Tw6whNbi3uovBLRMihMdHafDM2Wq         '\n                                   'iNy5GI6qS4YJkLnNZQIN2pNmhuun9XsHPoIdRkEwNAE+vX4iYw0mVQJ7zUY/hdyve6iv         '\n                                   '4aHI30+xNWsxKN3y9twXOccUH+Q524+/fEXeGuKhO5N7zP5ybwfftzt9e5NxkkghWliI         '\n                                   '97Qg=='},\n                         {'name': 'X-Gm-Message-State',\n                          'value': 'AOAM530yHhBawtNgze39HgZoXQpIWIb1OZMvlHt5AU9Q49WpWei4pxy0 '\n                                   'Ck4aD5V/BLJ/UzY5eJrI3I8JN+OhTz7yoYijlR0C2A=='},\n                         {'name': 'X-Google-Smtp-Source',\n                          'value': 'ABdhPJwfWyXOENthJWPnVrL04N3qIBkUGTZjNBS9JdB7ryeUr+xjmohrbtXGzMhjnYoynfuqkgwqeiNyFGgbQ/3SOoDU2w=='},\n                         {'name': 'MIME-Version', 'value': '1.0'},\n                         {'name': 'X-Received',\n                          'value': 'by 2002:a05:620a:f8b:: with SMTP id '\n                                   'b11mr10556352qkn.262.1629487201947; Fri, '\n                                   '20 Aug 2021 12:20:01 -0700 (PDT)'},\n                         {'name': 'Date',\n                          'value': 'Fri, 20 Aug 2021 19:20:01 GMT'},\n                         {'name': 'X-Account-Notification-Type',\n                          'value': '28-anexp#nret-fa'},\n                         {'name': 'Feedback-ID',\n                          'value': '28-anexp#nret-fa:account-notifier'},\n                         {'name': 'X-Notifications',\n                          'value': '2764ec3ca0e00000'},\n                         {'name': 'X-Notifications-Bounce-Info',\n                          'value': 'ATpamXmBg0xWT-oHcCPhnm82ZnqYi0t4JirVnPDxNzZJZdJgt-O8h_WotCV7miL6CJ9Ea7-f9SoZPycWGy7Y7pZF1U__RHKZpVZbCATEjebsxg4wHwkGjIO-2-H38VLRzFNDQd4l_BQRgkptFJLPctb9NzPWqjf-YQuaqRwIr4BDZ7C6bo1Vre2kQgNjAwNjA0MDQxNTM1NTk2OTMzMg'},\n                         {'name': 'Message-ID',\n                          'value': '<3GFTLfuBloalvBe1Uozc7Q@notifications.google.com>'},\n                         {'name': 'Subject',\n                          'value': 'Critical security alert'},\n                         {'name': 'From',\n                          'value': 'Google <no-reply@accounts.google.com>'},\n                         {'name': 'To', 'value': 'indecorpredicate@gmail.com'},\n                         {'name': 'Content-Type',\n                          'value': 'multipart/alternative; '\n                                   'boundary=\"000000000000d68e9305ca028d18\"'}],\n             'mimeType': 'multipart/alternative',\n             'partId': '',\n             'parts': [{'body': {'data': 'W2ltYWdlOiBHb29nbGVdDQpBY2Nlc3MgZm9yIGxlc3Mgc2VjdXJlIGFwcHMgc2V0dGluZyBoYXMgYmVlbiB0dXJuZWQgb24NCg0KDQppbmRlY29ycHJlZGljYXRlQGdtYWlsLmNvbQ0KQWNjZXNzIGZvciBsZXNzIHNlY3VyZSBhcHBzIHNldHRpbmcgaGFzIGJlZW4gdHVybmVkIG9uIGZvciB5b3VyIEdvb2dsZQ0KQWNjb3VudCBpbmRlY29ycHJlZGljYXRlQGdtYWlsLmNvbS4gSWYgeW91IGRpZG4ndCBjaGFuZ2UgaXQsIHlvdSBzaG91bGQNCmNoZWNrIHdoYXQgaGFwcGVuZWQuDQpDaGVjayBhY3Rpdml0eQ0KPGh0dHBzOi8vYWNjb3VudHMuZ29vZ2xlLmNvbS9BY2NvdW50Q2hvb3Nlcj9FbWFpbD1pbmRlY29ycHJlZGljYXRlQGdtYWlsLmNvbSZjb250aW51ZT1odHRwczovL215YWNjb3VudC5nb29nbGUuY29tL2FsZXJ0L250LzE2Mjk0ODcyMDE0MjY_cmZuJTNEMjglMjZyZm5jJTNEMSUyNmVpZCUzRC03MjQxODExMjM5OTExMzU3OTA5JTI2ZXQlM0QwJTI2YW5leHAlM0RucmV0LWZhPg0KWW91IGNhbiBhbHNvIHNlZSBzZWN1cml0eSBhY3Rpdml0eSBhdA0KaHR0cHM6Ly9teWFjY291bnQuZ29vZ2xlLmNvbS9ub3RpZmljYXRpb25zDQpZb3UgcmVjZWl2ZWQgdGhpcyBlbWFpbCB0byBsZXQgeW91IGtub3cgYWJvdXQgaW1wb3J0YW50IGNoYW5nZXMgdG8geW91cg0KR29vZ2xlIEFjY291bnQgYW5kIHNlcnZpY2VzLg0KwqkgMjAyMSBHb29nbGUgTExDLCAxNjAwIEFtcGhpdGhlYXRyZSBQYXJrd2F5LCBNb3VudGFpbiBWaWV3LCBDQSA5NDA0MywgVVNBDQo=',\n                                 'size': 767},\n                        'filename': '',\n                        'headers': [{'name': 'Content-Type',\n                                     'value': 'text/plain; charset=\"UTF-8\"; '\n                                              'format=flowed; delsp=yes'},\n                                    {'name': 'Content-Transfer-Encoding',\n                                     'value': 'base64'}],\n                        'mimeType': 'text/plain',\n                        'partId': '0'},\n                       {'body': {'data': 'PCFET0NUWVBFIGh0bWw-PGh0bWwgbGFuZz0iZW4iPjxoZWFkPjxtZXRhIG5hbWU9ImZvcm1hdC1kZXRlY3Rpb24iIGNvbnRlbnQ9ImVtYWlsPW5vIi8-PG1ldGEgbmFtZT0iZm9ybWF0LWRldGVjdGlvbiIgY29udGVudD0iZGF0ZT1ubyIvPjxzdHlsZSBub25jZT0iTzBZRkpoWTdITjNQV05sdlpUT2pHdyI-LmF3bCBhIHtjb2xvcjogI0ZGRkZGRjsgdGV4dC1kZWNvcmF0aW9uOiBub25lO30gLmFibWwgYSB7Y29sb3I6ICMwMDAwMDA7IGZvbnQtZmFtaWx5OiBSb2JvdG8tTWVkaXVtLEhlbHZldGljYSxBcmlhbCxzYW5zLXNlcmlmOyBmb250LXdlaWdodDogYm9sZDsgdGV4dC1kZWNvcmF0aW9uOiBub25lO30gLmFkZ2wgYSB7Y29sb3I6IHJnYmEoMCwgMCwgMCwgMC44Nyk7IHRleHQtZGVjb3JhdGlvbjogbm9uZTt9IC5hZmFsIGEge2NvbG9yOiAjYjBiMGIwOyB0ZXh0LWRlY29yYXRpb246IG5vbmU7fSBAbWVkaWEgc2NyZWVuIGFuZCAobWluLXdpZHRoOiA2MDBweCkgey52MnNwIHtwYWRkaW5nOiA2cHggMzBweCAwcHg7fSAudjJyc3Age3BhZGRpbmc6IDBweCAxMHB4O319IEBtZWRpYSBzY3JlZW4gYW5kIChtaW4td2lkdGg6IDYwMHB4KSB7Lm1kdjJydyB7cGFkZGluZzogNDBweCA0MHB4O319IDwvc3R5bGU-PGxpbmsgaHJlZj0iLy9mb250cy5nb29nbGVhcGlzLmNvbS9jc3M_ZmFtaWx5PUdvb2dsZStTYW5zIiByZWw9InN0eWxlc2hlZXQiIHR5cGU9InRleHQvY3NzIiBub25jZT0iTzBZRkpoWTdITjNQV05sdlpUT2pHdyIvPjwvaGVhZD48Ym9keSBzdHlsZT0ibWFyZ2luOiAwOyBwYWRkaW5nOiAwOyIgYmdjb2xvcj0iI0ZGRkZGRiI-PHRhYmxlIHdpZHRoPSIxMDAlIiBoZWlnaHQ9IjEwMCUiIHN0eWxlPSJtaW4td2lkdGg6IDM0OHB4OyIgYm9yZGVyPSIwIiBjZWxsc3BhY2luZz0iMCIgY2VsbHBhZGRpbmc9IjAiIGxhbmc9ImVuIj48dHIgaGVpZ2h0PSIzMiIgc3R5bGU9ImhlaWdodDogMzJweDsiPjx0ZD48L3RkPjwvdHI-PHRyIGFsaWduPSJjZW50ZXIiPjx0ZD48ZGl2IGl0ZW1zY29wZSBpdGVtdHlwZT0iLy9zY2hlbWEub3JnL0VtYWlsTWVzc2FnZSI-PGRpdiBpdGVtcHJvcD0iYWN0aW9uIiBpdGVtc2NvcGUgaXRlbXR5cGU9Ii8vc2NoZW1hLm9yZy9WaWV3QWN0aW9uIj48bGluayBpdGVtcHJvcD0idXJsIiBocmVmPSJodHRwczovL2FjY291bnRzLmdvb2dsZS5jb20vQWNjb3VudENob29zZXI_RW1haWw9aW5kZWNvcnByZWRpY2F0ZUBnbWFpbC5jb20mYW1wO2NvbnRpbnVlPWh0dHBzOi8vbXlhY2NvdW50Lmdvb2dsZS5jb20vYWxlcnQvbnQvMTYyOTQ4NzIwMTQyNj9yZm4lM0QyOCUyNnJmbmMlM0QxJTI2ZWlkJTNELTcyNDE4MTEyMzk5MTEzNTc5MDklMjZldCUzRDAlMjZhbmV4cCUzRG5yZXQtZmEiLz48bWV0YSBpdGVtcHJvcD0ibmFtZSIgY29udGVudD0iUmV2aWV3IEFjdGl2aXR5Ii8-PC9kaXY-PC9kaXY-PHRhYmxlIGJvcmRlcj0iMCIgY2VsbHNwYWNpbmc9IjAiIGNlbGxwYWRkaW5nPSIwIiBzdHlsZT0icGFkZGluZy1ib3R0b206IDIwcHg7IG1heC13aWR0aDogNTE2cHg7IG1pbi13aWR0aDogMjIwcHg7Ij48dHI-PHRkIHdpZHRoPSI4IiBzdHlsZT0id2lkdGg6IDhweDsiPjwvdGQ-PHRkPjxkaXYgc3R5bGU9ImJvcmRlci1zdHlsZTogc29saWQ7IGJvcmRlci13aWR0aDogdGhpbjsgYm9yZGVyLWNvbG9yOiNkYWRjZTA7IGJvcmRlci1yYWRpdXM6IDhweDsgcGFkZGluZzogNDBweCAyMHB4OyIgYWxpZ249ImNlbnRlciIgY2xhc3M9Im1kdjJydyI-PGltZyBzcmM9Imh0dHBzOi8vd3d3LmdzdGF0aWMuY29tL2ltYWdlcy9icmFuZGluZy9nb29nbGVsb2dvLzJ4L2dvb2dsZWxvZ29fY29sb3JfNzR4MjRkcC5wbmciIHdpZHRoPSI3NCIgaGVpZ2h0PSIyNCIgYXJpYS1oaWRkZW49InRydWUiIHN0eWxlPSJtYXJnaW4tYm90dG9tOiAxNnB4OyIgYWx0PSJHb29nbGUiPjxkaXYgc3R5bGU9ImZvbnQtZmFtaWx5OiAmIzM5O0dvb2dsZSBTYW5zJiMzOTssUm9ib3RvLFJvYm90b0RyYWZ0LEhlbHZldGljYSxBcmlhbCxzYW5zLXNlcmlmO2JvcmRlci1ib3R0b206IHRoaW4gc29saWQgI2RhZGNlMDsgY29sb3I6IHJnYmEoMCwwLDAsMC44Nyk7IGxpbmUtaGVpZ2h0OiAzMnB4OyBwYWRkaW5nLWJvdHRvbTogMjRweDt0ZXh0LWFsaWduOiBjZW50ZXI7IHdvcmQtYnJlYWs6IGJyZWFrLXdvcmQ7Ij48ZGl2IHN0eWxlPSJmb250LXNpemU6IDI0cHg7Ij5BY2Nlc3MgZm9yIGxlc3Mgc2VjdXJlIGFwcHMgc2V0dGluZyBoYXMgYmVlbiB0dXJuZWQgb24gPC9kaXY-PHRhYmxlIGFsaWduPSJjZW50ZXIiIHN0eWxlPSJtYXJnaW4tdG9wOjhweDsiPjx0ciBzdHlsZT0ibGluZS1oZWlnaHQ6IG5vcm1hbDsiPjx0ZCBhbGlnbj0icmlnaHQiIHN0eWxlPSJwYWRkaW5nLXJpZ2h0OjhweDsiPjxpbWcgd2lkdGg9IjIwIiBoZWlnaHQ9IjIwIiBzdHlsZT0id2lkdGg6IDIwcHg7IGhlaWdodDogMjBweDsgdmVydGljYWwtYWxpZ246IHN1YjsgYm9yZGVyLXJhZGl1czogNTAlOzsiIHNyYz0iaHR0cHM6Ly9saDMuZ29vZ2xldXNlcmNvbnRlbnQuY29tL2EvQUFUWEFKd05BS05FVDVQT3dxZ2V3UGFYanREZWtNMVVyUlF2UHNNZ0JaVko9czk2IiBhbHQ9IiI-PC90ZD48dGQ-PGEgc3R5bGU9ImZvbnQtZmFtaWx5OiAmIzM5O0dvb2dsZSBTYW5zJiMzOTssUm9ib3RvLFJvYm90b0RyYWZ0LEhlbHZldGljYSxBcmlhbCxzYW5zLXNlcmlmO2NvbG9yOiByZ2JhKDAsMCwwLDAuODcpOyBmb250LXNpemU6IDE0cHg7IGxpbmUtaGVpZ2h0OiAyMHB4OyI-aW5kZWNvcnByZWRpY2F0ZUBnbWFpbC5jb208L2E-PC90ZD48L3RyPjwvdGFibGU-IDwvZGl2PjxkaXYgc3R5bGU9ImZvbnQtZmFtaWx5OiBSb2JvdG8tUmVndWxhcixIZWx2ZXRpY2EsQXJpYWwsc2Fucy1zZXJpZjsgZm9udC1zaXplOiAxNHB4OyBjb2xvcjogcmdiYSgwLDAsMCwwLjg3KTsgbGluZS1oZWlnaHQ6IDIwcHg7cGFkZGluZy10b3A6IDIwcHg7IHRleHQtYWxpZ246IGxlZnQ7Ij5BY2Nlc3MgZm9yIGxlc3Mgc2VjdXJlIGFwcHMgc2V0dGluZyBoYXMgYmVlbiB0dXJuZWQgb24gZm9yIHlvdXIgR29vZ2xlIEFjY291bnQgaW5kZWNvcnByZWRpY2F0ZUBnbWFpbC5jb20uIElmIHlvdSBkaWRuJ3QgY2hhbmdlIGl0LCB5b3Ugc2hvdWxkIGNoZWNrIHdoYXQgaGFwcGVuZWQuPGRpdiBzdHlsZT0icGFkZGluZy10b3A6IDMycHg7IHRleHQtYWxpZ246IGNlbnRlcjsiPjxhIGhyZWY9Imh0dHBzOi8vYWNjb3VudHMuZ29vZ2xlLmNvbS9BY2NvdW50Q2hvb3Nlcj9FbWFpbD1pbmRlY29ycHJlZGljYXRlQGdtYWlsLmNvbSZhbXA7Y29udGludWU9aHR0cHM6Ly9teWFjY291bnQuZ29vZ2xlLmNvbS9hbGVydC9udC8xNjI5NDg3MjAxNDI2P3JmbiUzRDI4JTI2cmZuYyUzRDElMjZlaWQlM0QtNzI0MTgxMTIzOTkxMTM1NzkwOSUyNmV0JTNEMCUyNmFuZXhwJTNEbnJldC1mYSIgdGFyZ2V0PSJfYmxhbmsiIGxpbmstaWQ9Im1haW4tYnV0dG9uLWxpbmsiIHN0eWxlPSJmb250LWZhbWlseTogJiMzOTtHb29nbGUgU2FucyYjMzk7LFJvYm90byxSb2JvdG9EcmFmdCxIZWx2ZXRpY2EsQXJpYWwsc2Fucy1zZXJpZjsgbGluZS1oZWlnaHQ6IDE2cHg7IGNvbG9yOiAjZmZmZmZmOyBmb250LXdlaWdodDogNDAwOyB0ZXh0LWRlY29yYXRpb246IG5vbmU7Zm9udC1zaXplOiAxNHB4O2Rpc3BsYXk6aW5saW5lLWJsb2NrO3BhZGRpbmc6IDEwcHggMjRweDtiYWNrZ3JvdW5kLWNvbG9yOiAjNDE4NEYzOyBib3JkZXItcmFkaXVzOiA1cHg7IG1pbi13aWR0aDogOTBweDsiPkNoZWNrIGFjdGl2aXR5PC9hPjwvZGl2PjwvZGl2PjxkaXYgc3R5bGU9InBhZGRpbmctdG9wOiAyMHB4OyBmb250LXNpemU6IDEycHg7IGxpbmUtaGVpZ2h0OiAxNnB4OyBjb2xvcjogIzVmNjM2ODsgbGV0dGVyLXNwYWNpbmc6IDAuM3B4OyB0ZXh0LWFsaWduOiBjZW50ZXIiPllvdSBjYW4gYWxzbyBzZWUgc2VjdXJpdHkgYWN0aXZpdHkgYXQ8YnI-PGEgc3R5bGU9ImNvbG9yOiByZ2JhKDAsIDAsIDAsIDAuODcpO3RleHQtZGVjb3JhdGlvbjogaW5oZXJpdDsiPmh0dHBzOi8vbXlhY2NvdW50Lmdvb2dsZS5jb20vbm90aWZpY2F0aW9uczwvYT48L2Rpdj48L2Rpdj48ZGl2IHN0eWxlPSJ0ZXh0LWFsaWduOiBsZWZ0OyI-PGRpdiBzdHlsZT0iZm9udC1mYW1pbHk6IFJvYm90by1SZWd1bGFyLEhlbHZldGljYSxBcmlhbCxzYW5zLXNlcmlmO2NvbG9yOiByZ2JhKDAsMCwwLDAuNTQpOyBmb250LXNpemU6IDExcHg7IGxpbmUtaGVpZ2h0OiAxOHB4OyBwYWRkaW5nLXRvcDogMTJweDsgdGV4dC1hbGlnbjogY2VudGVyOyI-PGRpdj5Zb3UgcmVjZWl2ZWQgdGhpcyBlbWFpbCB0byBsZXQgeW91IGtub3cgYWJvdXQgaW1wb3J0YW50IGNoYW5nZXMgdG8geW91ciBHb29nbGUgQWNjb3VudCBhbmQgc2VydmljZXMuPC9kaXY-PGRpdiBzdHlsZT0iZGlyZWN0aW9uOiBsdHI7Ij4mY29weTsgMjAyMSBHb29nbGUgTExDLCA8YSBjbGFzcz0iYWZhbCIgc3R5bGU9ImZvbnQtZmFtaWx5OiBSb2JvdG8tUmVndWxhcixIZWx2ZXRpY2EsQXJpYWwsc2Fucy1zZXJpZjtjb2xvcjogcmdiYSgwLDAsMCwwLjU0KTsgZm9udC1zaXplOiAxMXB4OyBsaW5lLWhlaWdodDogMThweDsgcGFkZGluZy10b3A6IDEycHg7IHRleHQtYWxpZ246IGNlbnRlcjsiPjE2MDAgQW1waGl0aGVhdHJlIFBhcmt3YXksIE1vdW50YWluIFZpZXcsIENBIDk0MDQzLCBVU0E8L2E-PC9kaXY-PC9kaXY-PC9kaXY-PC90ZD48dGQgd2lkdGg9IjgiIHN0eWxlPSJ3aWR0aDogOHB4OyI-PC90ZD48L3RyPjwvdGFibGU-PC90ZD48L3RyPjx0ciBoZWlnaHQ9IjMyIiBzdHlsZT0iaGVpZ2h0OiAzMnB4OyI-PHRkPjwvdGQ-PC90cj48L3RhYmxlPjwvYm9keT48L2h0bWw-',\n                                 'size': 4806},\n                        'filename': '',\n                        'headers': [{'name': 'Content-Type',\n                                     'value': 'text/html; charset=\"UTF-8\"'},\n                                    {'name': 'Content-Transfer-Encoding',\n                                     'value': 'quoted-printable'}],\n                        'mimeType': 'text/html',\n                        'partId': '1'}]},\n 'sizeEstimate': 11752,\n 'snippet': 'Access for less secure apps setting has been turned on '\n            'indecorpredicate@gmail.com Access for less secure apps setting '\n            'has been turned on for your Google Account '\n            'indecorpredicate@gmail.com. If you didn',\n 'threadId': '17b65017f96f8259'}\n\n"
                    ]
                }
            ],
            "source": [
                "# for message in email_list(Indecor)['messages']:\n",
                "#     print(message['id'])\n",
                "from pprint import pprint\n",
                "formats = [None, \"full\", \"metadata\", \"minimal\", \"raw\"]\n",
                "for email in email_list(Indecor):\n",
                "    print(email.keys())\n",
                "    pprint(email)\n",
                "    print()"
            ]
        },
        {
            "cell_type": "code",
            "execution_count": 24,
            "metadata": {},
            "outputs": [],
            "source": [
                "def email_list(self, message_format=None):\n",
                "    li= self._messages_api().list(userId=self.user_id).execute()\n",
                "    return li"
            ]
        },
        {
            "cell_type": "code",
            "execution_count": 38,
            "source": [
                "UID=\"indecorpredicate@gmail.com\"\n",
                "prof = Indecor.service.users().getProfile(userId=Indecor.user_email).execute()\n",
                "meslist = Indecor.service.users().messages().list(userId=Indecor.user_email).execute()"
            ],
            "outputs": [],
            "metadata": {}
        },
        {
            "cell_type": "code",
            "execution_count": 39,
            "source": [
                "print(res)"
            ],
            "outputs": [
                {
                    "output_type": "stream",
                    "name": "stdout",
                    "text": [
                        "{'messages': [{'id': '17b738ec272c25d3', 'threadId': '17b738ead5dc25d3'}, {'id': '17b738ead5dc25d3', 'threadId': '17b738ead5dc25d3'}, {'id': '17b65017f96f8259', 'threadId': '17b65017f96f8259'}], 'resultSizeEstimate': 3}\n"
                    ]
                }
            ],
            "metadata": {}
        },
        {
            "cell_type": "code",
            "execution_count": 40,
            "source": [
                "print(prof)"
            ],
            "outputs": [
                {
                    "output_type": "stream",
                    "name": "stdout",
                    "text": [
                        "{'emailAddress': 'indecorpredicate@gmail.com', 'messagesTotal': 3, 'threadsTotal': 2, 'historyId': '5889'}\n"
                    ]
                }
            ],
            "metadata": {}
        },
        {
            "cell_type": "code",
            "execution_count": null,
            "source": [
                "Indecor"
            ],
            "outputs": [],
            "metadata": {}
        }
    ],
    "metadata": {
        "orig_nbformat": 4,
        "language_info": {
            "name": "python",
            "version": "3.6.10",
            "mimetype": "text/x-python",
            "codemirror_mode": {
                "name": "ipython",
                "version": 3
            },
            "pygments_lexer": "ipython3",
            "nbconvert_exporter": "python",
            "file_extension": ".py"
        },
        "kernelspec": {
            "name": "python3",
            "display_name": "Python 3.6.10 64-bit ('pydev': conda)"
        },
        "interpreter": {
            "hash": "3a0afe56b1e67792e861f38d6b26ecb378429b543d302460c52e434d6249a684"
        }
    },
    "nbformat": 4,
    "nbformat_minor": 2
}