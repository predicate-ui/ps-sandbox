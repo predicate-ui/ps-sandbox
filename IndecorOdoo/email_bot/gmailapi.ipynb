{
    "cells": [
        {
            "cell_type": "code",
            "execution_count": 1,
            "source": [
                "from oauth import *\n",
                "email_address = \"indecorpredicate@gmail.com\""
            ],
            "outputs": [],
            "metadata": {}
        },
        {
            "cell_type": "code",
            "execution_count": 2,
            "metadata": {},
            "outputs": [
                {
                    "output_type": "stream",
                    "name": "stdout",
                    "text": [
                        "Please visit this URL to authorize this application: https://accounts.google.com/o/oauth2/auth?response_type=code&client_id=467488332884-nkn4j4q35qgq66vterij95d56limmhn5.apps.googleusercontent.com&redirect_uri=http%3A%2F%2Flocalhost%3A54029%2F&scope=https%3A%2F%2Fwww.googleapis.com%2Fauth%2Fgmail.modify&state=A7EfklqzJRT3hVvCvKliGONfBl8nRh&access_type=offline\n",
                        "starting a new service\n"
                    ]
                }
            ],
            "source": [
                "MyGmail = OAuthGmailUser(email_address, cred_path=CRED_PATH, token_path=TOKEN_PATH, scopes=[\"modify\"])"
            ]
        },
        {
            "cell_type": "code",
            "execution_count": 3,
            "source": [
                "my_messages = MyGmail.get_messages(max_results=4)"
            ],
            "outputs": [],
            "metadata": {}
        },
        {
            "cell_type": "code",
            "execution_count": 23,
            "metadata": {},
            "outputs": [],
            "source": [
                "import time\n",
                "from base64 import urlsafe_b64encode"
            ]
        },
        {
            "cell_type": "code",
            "execution_count": 252,
            "metadata": {},
            "outputs": [],
            "source": [
                "class GmailMessage(email.message.EmailMessage):\n",
                "    def __init__(self, user, policy=email.policy.SMTP):\n",
                "        super().__init__(policy)\n",
                "        self.user = user\n",
                "\n",
                "        # API Atributes\n",
                "        self.internalDate = time.time()*1000\n",
                "        self.historyId = None\n",
                "        # a big one \n",
                "        self.payload = None\n",
                "        self.snippet = self.get_body(('plain')).as_string()[:58]\n",
                "        self.raw = None\n",
                "        self.sizeEstimate = None\n",
                "        self.threadId = None\n",
                "        self.labelIds = None\n",
                "        self.id = None\n",
                "\n",
                "    def set_api_attrs(self):\n",
                "        \"\"\"Refreshes and/or sets the API attributes based on current content.\"\"\"\n",
                "        self.internalDate = time.time()*1000\n",
                "        # self.historyId = None\n",
                "        # a big one \n",
                "        self.payload = self.get_gmail_payload()\n",
                "        self.snippet = self.get_body(('plain')).as_string()[:58]\n",
                "        self.raw = urlsafe_b64encode(self.as_bytes())\n",
                "        # self.sizeEstimate = None\n",
                "        # self.threadId = None\n",
                "        # self.labelIds = None\n",
                "        # self.id = None\n",
                "    \n",
                "    def get_gmail_payload(self):\n",
                "        payload = {\n",
                "            'body': { # The body of a single MIME message part. # The message part body for this part, which may be empty for container MIME message parts.\n",
                "                \"data\": urlsafe_b64encode(self.as_bytes()), # The body data of a MIME message part as a base64url encoded string. May be empty for MIME container types that have no message body or when the body data is sent as a separate attachment. An attachment ID is present if the body data is contained in a separate attachment.\n",
                "                # \"attachmentId\": \"A String\", # When present, contains the ID of an external attachment that can be retrieved in a separate messages.attachments.get request. When not present, the entire content of the message part body is contained in the data field.\n",
                "                # \"size\": 42, # Number of bytes for the message part data (encoding notwithstanding).\n",
                "            },\n",
                "            \"mimeType\": self['Content-Type'], # The MIME type of the message part.\n",
                "            # \"partId\": \"A String\", # The immutable ID of the message part.\n",
                "            # \"filename\": \"A String\", # The filename of the attachment. Only present if this message part represents an attachment.\n",
                "            \"headers\":[\n",
                "                dict(self.items())\n",
                "            ]\n",
                "            # \"parts\": [ # The child MIME message parts of this part. This only applies to container MIME message parts, for example multipart/*. For non- container MIME message part types, such as text/plain, this field is empty. For more information, see RFC 1521.\n",
                "\n",
                "        }\n",
                "        # \"payload\": { # A single MIME message part. # The parsed email structure in the message parts.\n",
                "        #     \"body\": { # The body of a single MIME message part. # The message part body for this part, which may be empty for container MIME message parts.\n",
                "        #     \"data\": \"A String\", # The body data of a MIME message part as a base64url encoded string. May be empty for MIME container types that have no message body or when the body data is sent as a separate attachment. An attachment ID is present if the body data is contained in a separate attachment.\n",
                "        #     \"attachmentId\": \"A String\", # When present, contains the ID of an external attachment that can be retrieved in a separate messages.attachments.get request. When not present, the entire content of the message part body is contained in the data field.\n",
                "        #     \"size\": 42, # Number of bytes for the message part data (encoding notwithstanding).\n",
                "        #         },\n",
                "        #     \"mimeType\": \"A String\", # The MIME type of the message part.\n",
                "        #     \"partId\": \"A String\", # The immutable ID of the message part.\n",
                "        #     \"filename\": \"A String\", # The filename of the attachment. Only present if this message part represents an attachment.\n",
                "        #     \"headers\": [ # List of headers on this message part. For the top-level message part, representing the entire message payload, it will contain the standard RFC 2822 email headers such as To, From, and Subject.\n",
                "        #         {\"name\": \"A String\", # The name of the header before the : separator. For example, To.\n",
                "        #         \"value\": \"A String\", # The value of the header after the : separator. For example, someuser@example.com.},\n",
                "        #         ],\n",
                "        #     \"parts\": [ # The child MIME message parts of this part. This only applies to container MIME message parts, for example multipart/*. For non- container MIME message part types, such as text/plain, this field is empty. For more information, see RFC 1521.\n",
                "        #         # Object with schema name: MessagePart],\n",
                "        # },\n",
                "        return payload\n",
                "\n",
                "\n",
                "    def as_api_consumable(self, api='gmail_v1', refresh=True):\n",
                "        if refresh:\n",
                "            self.set_api_attrs()\n",
                "        consumable_draft = {\n",
                "            # #an email message.\n",
                "            # \"internalDate\": self.internalDate, # The internal message creation timestamp (epoch ms), which determines ordering in the inbox. For normal SMTP-received email, this represents the time the message was originally accepted by Google, which is more reliable than the Date header. However, for API-migrated mail, it can be configured by client to be based on the Date header.\n",
                "            # \"historyId\": self.historyId, # The ID of the last history record that modified this message.\n",
                "            \"payload\": self.payload, # A single MIME message part. # The parsed email structure in the message parts.\n",
                "            \"snippet\": self.snippet, # A short part of the message text.\n",
                "            # \"raw\": self.raw, # The entire email message in an RFC 2822 formatted and base64url encoded string. Returned in messages.get and drafts.get responses when the format=RAW parameter is supplied.\n",
                "            # \"sizeEstimate\": self.sizeEstimate, # Estimated size in bytes of the message.\n",
                "            \"threadId\": self.threadId, # The ID of the thread the message belongs to. To add a message or draft to a thread, the following criteria must be met:\n",
                "                # - The requested threadId must be specified on the Message or Draft.Message you supply with your request.\n",
                "                # - The References and In-Reply-To headers must be set in compliance with the RFC 2822 standard.\n",
                "            #     # - The Subject headers must match.\n",
                "            # \"labelIds\": self.labelIds, # List of IDs of labels applied to this message.\n",
                "            # \"id\": self.id, # The immutable ID of the message.\n",
                "        }\n",
                "        api_consumable = dict()\n",
                "        for attr, data in consumable_draft.items():\n",
                "            if data:\n",
                "                api_consumable[attr] = data\n",
                "        return api_consumable\n",
                "\n",
                "\n",
                "        \n",
                "    def add_sole_header(self, _name, _value, **_params):\n",
                "        del self[_name]\n",
                "        self.add_header(_name, _value, **_params)\n",
                "\n",
                "    def add_sole_headers(self, **headers):\n",
                "        for name, value in headers.items():\n",
                "            self.add_sole_header(name, value)\n",
                "    \n",
                "    def send(self):\n",
                "        self.user._send_message(self.as_api_consumable())\n",
                "\n",
                "    \n"
            ]
        },
        {
            "cell_type": "code",
            "execution_count": 253,
            "metadata": {},
            "outputs": [],
            "source": [
                "class UpgradedGmailUser(OAuthGmailUser):\n",
                "    def new_message(self, to: str, subject, contents):\n",
                "        NewMessage = GmailMessage(self)\n",
                "        NewMessage.add_sole_headers(To=to,From=self.user_id, Subject=subject)\n",
                "        NewMessage.set_content(contents)\n",
                "        return NewMessage\n",
                "    \n",
                "    def _send_message(self, message, media_upload=None):\n",
                "        self._messages_api().send(userId=self.user_id, body=message, media_body=None, media_mime_type=None).execute()\n",
                "    \n",
                "    def new_reply(self, reply_to:GMessage, contents, subject=None):\n",
                "        if not subject:\n",
                "            subject = reply_to.mime[\"Subject\"]\n",
                "            if \"Re: \" != subject[:4]:\n",
                "                subject = \"Re: \" + subject\n",
                "        message = self.new_message(to=reply_to.mime[\"From\"], subject = subject, contents=contents)\n",
                "        message.threadId = reply_to.threadId\n",
                "        reply_id = reply_to.mime[\"Message-ID\"]\n",
                "        message.add_sole_header(\"In-Reply-To\",reply_id)\n",
                "        references = reply_to.mime[\"References\"]\n",
                "        if not references:\n",
                "            references = reply_to.mime[\"In-Reply-To\"]\n",
                "        references += f\"\\t{reply_id}\"\n",
                "        message.add_sole_header(\"References\", references)\n",
                "        return message"
            ]
        },
        {
            "cell_type": "code",
            "execution_count": 254,
            "metadata": {},
            "outputs": [
                {
                    "output_type": "execute_result",
                    "data": {
                        "text/plain": [
                            "True"
                        ]
                    },
                    "metadata": {},
                    "execution_count": 254
                }
            ],
            "source": [
                "4!=5"
            ]
        },
        {
            "cell_type": "code",
            "execution_count": 255,
            "metadata": {},
            "outputs": [
                {
                    "output_type": "stream",
                    "name": "stdout",
                    "text": [
                        "starting a new service\n"
                    ]
                }
            ],
            "source": [
                "MyGmail = UpgradedGmailUser(email_address, cred_path=CRED_PATH, token_path=TOKEN_PATH, scopes=[\"modify\"])\n",
                "reply_content = \"Hi,  I'm a script that's testing API integration.  did you get this?  thanks!\"\n",
                "my_rep = MyGmail.new_reply(mes, reply_content)\n",
                "\n"
            ]
        },
        {
            "cell_type": "code",
            "execution_count": 256,
            "metadata": {},
            "outputs": [
                {
                    "output_type": "error",
                    "ename": "TypeError",
                    "evalue": "Object of type 'bytes' is not JSON serializable",
                    "traceback": [
                        "\u001b[0;31m---------------------------------------------------------------------------\u001b[0m",
                        "\u001b[0;31mTypeError\u001b[0m                                 Traceback (most recent call last)",
                        "\u001b[0;32m<ipython-input-256-e050c8a59ef8>\u001b[0m in \u001b[0;36m<module>\u001b[0;34m\u001b[0m\n\u001b[0;32m----> 1\u001b[0;31m \u001b[0mmy_rep\u001b[0m\u001b[0;34m.\u001b[0m\u001b[0msend\u001b[0m\u001b[0;34m(\u001b[0m\u001b[0;34m)\u001b[0m\u001b[0;34m\u001b[0m\u001b[0;34m\u001b[0m\u001b[0m\n\u001b[0m",
                        "\u001b[0;32m<ipython-input-252-6401637061b4>\u001b[0m in \u001b[0;36msend\u001b[0;34m(self)\u001b[0m\n\u001b[1;32m     99\u001b[0m \u001b[0;34m\u001b[0m\u001b[0m\n\u001b[1;32m    100\u001b[0m     \u001b[0;32mdef\u001b[0m \u001b[0msend\u001b[0m\u001b[0;34m(\u001b[0m\u001b[0mself\u001b[0m\u001b[0;34m)\u001b[0m\u001b[0;34m:\u001b[0m\u001b[0;34m\u001b[0m\u001b[0;34m\u001b[0m\u001b[0m\n\u001b[0;32m--> 101\u001b[0;31m         \u001b[0mself\u001b[0m\u001b[0;34m.\u001b[0m\u001b[0muser\u001b[0m\u001b[0;34m.\u001b[0m\u001b[0m_send_message\u001b[0m\u001b[0;34m(\u001b[0m\u001b[0mself\u001b[0m\u001b[0;34m.\u001b[0m\u001b[0mas_api_consumable\u001b[0m\u001b[0;34m(\u001b[0m\u001b[0;34m)\u001b[0m\u001b[0;34m)\u001b[0m\u001b[0;34m\u001b[0m\u001b[0;34m\u001b[0m\u001b[0m\n\u001b[0m\u001b[1;32m    102\u001b[0m \u001b[0;34m\u001b[0m\u001b[0m\n\u001b[1;32m    103\u001b[0m \u001b[0;34m\u001b[0m\u001b[0m\n",
                        "\u001b[0;32m<ipython-input-253-bb18507f366a>\u001b[0m in \u001b[0;36m_send_message\u001b[0;34m(self, message, media_upload)\u001b[0m\n\u001b[1;32m      7\u001b[0m \u001b[0;34m\u001b[0m\u001b[0m\n\u001b[1;32m      8\u001b[0m     \u001b[0;32mdef\u001b[0m \u001b[0m_send_message\u001b[0m\u001b[0;34m(\u001b[0m\u001b[0mself\u001b[0m\u001b[0;34m,\u001b[0m \u001b[0mmessage\u001b[0m\u001b[0;34m,\u001b[0m \u001b[0mmedia_upload\u001b[0m\u001b[0;34m=\u001b[0m\u001b[0;32mNone\u001b[0m\u001b[0;34m)\u001b[0m\u001b[0;34m:\u001b[0m\u001b[0;34m\u001b[0m\u001b[0;34m\u001b[0m\u001b[0m\n\u001b[0;32m----> 9\u001b[0;31m         \u001b[0mself\u001b[0m\u001b[0;34m.\u001b[0m\u001b[0m_messages_api\u001b[0m\u001b[0;34m(\u001b[0m\u001b[0;34m)\u001b[0m\u001b[0;34m.\u001b[0m\u001b[0msend\u001b[0m\u001b[0;34m(\u001b[0m\u001b[0muserId\u001b[0m\u001b[0;34m=\u001b[0m\u001b[0mself\u001b[0m\u001b[0;34m.\u001b[0m\u001b[0muser_id\u001b[0m\u001b[0;34m,\u001b[0m \u001b[0mbody\u001b[0m\u001b[0;34m=\u001b[0m\u001b[0mmessage\u001b[0m\u001b[0;34m,\u001b[0m \u001b[0mmedia_body\u001b[0m\u001b[0;34m=\u001b[0m\u001b[0;32mNone\u001b[0m\u001b[0;34m,\u001b[0m \u001b[0mmedia_mime_type\u001b[0m\u001b[0;34m=\u001b[0m\u001b[0;32mNone\u001b[0m\u001b[0;34m)\u001b[0m\u001b[0;34m.\u001b[0m\u001b[0mexecute\u001b[0m\u001b[0;34m(\u001b[0m\u001b[0;34m)\u001b[0m\u001b[0;34m\u001b[0m\u001b[0;34m\u001b[0m\u001b[0m\n\u001b[0m\u001b[1;32m     10\u001b[0m \u001b[0;34m\u001b[0m\u001b[0m\n\u001b[1;32m     11\u001b[0m     \u001b[0;32mdef\u001b[0m \u001b[0mnew_reply\u001b[0m\u001b[0;34m(\u001b[0m\u001b[0mself\u001b[0m\u001b[0;34m,\u001b[0m \u001b[0mreply_to\u001b[0m\u001b[0;34m:\u001b[0m\u001b[0mGMessage\u001b[0m\u001b[0;34m,\u001b[0m \u001b[0mcontents\u001b[0m\u001b[0;34m,\u001b[0m \u001b[0msubject\u001b[0m\u001b[0;34m=\u001b[0m\u001b[0;32mNone\u001b[0m\u001b[0;34m)\u001b[0m\u001b[0;34m:\u001b[0m\u001b[0;34m\u001b[0m\u001b[0;34m\u001b[0m\u001b[0m\n",
                        "\u001b[0;32m~/anaconda3/envs/pydev/lib/python3.6/site-packages/googleapiclient/discovery.py\u001b[0m in \u001b[0;36mmethod\u001b[0;34m(self, **kwargs)\u001b[0m\n\u001b[1;32m   1071\u001b[0m         \u001b[0mheaders\u001b[0m \u001b[0;34m=\u001b[0m \u001b[0;34m{\u001b[0m\u001b[0;34m}\u001b[0m\u001b[0;34m\u001b[0m\u001b[0;34m\u001b[0m\u001b[0m\n\u001b[1;32m   1072\u001b[0m         headers, params, query, body = model.request(\n\u001b[0;32m-> 1073\u001b[0;31m             \u001b[0mheaders\u001b[0m\u001b[0;34m,\u001b[0m \u001b[0mactual_path_params\u001b[0m\u001b[0;34m,\u001b[0m \u001b[0mactual_query_params\u001b[0m\u001b[0;34m,\u001b[0m \u001b[0mbody_value\u001b[0m\u001b[0;34m\u001b[0m\u001b[0;34m\u001b[0m\u001b[0m\n\u001b[0m\u001b[1;32m   1074\u001b[0m         )\n\u001b[1;32m   1075\u001b[0m \u001b[0;34m\u001b[0m\u001b[0m\n",
                        "\u001b[0;32m~/anaconda3/envs/pydev/lib/python3.6/site-packages/googleapiclient/model.py\u001b[0m in \u001b[0;36mrequest\u001b[0;34m(self, headers, path_params, query_params, body_value)\u001b[0m\n\u001b[1;32m    158\u001b[0m         \u001b[0;32mif\u001b[0m \u001b[0mbody_value\u001b[0m \u001b[0;32mis\u001b[0m \u001b[0;32mnot\u001b[0m \u001b[0;32mNone\u001b[0m\u001b[0;34m:\u001b[0m\u001b[0;34m\u001b[0m\u001b[0;34m\u001b[0m\u001b[0m\n\u001b[1;32m    159\u001b[0m             \u001b[0mheaders\u001b[0m\u001b[0;34m[\u001b[0m\u001b[0;34m\"content-type\"\u001b[0m\u001b[0;34m]\u001b[0m \u001b[0;34m=\u001b[0m \u001b[0mself\u001b[0m\u001b[0;34m.\u001b[0m\u001b[0mcontent_type\u001b[0m\u001b[0;34m\u001b[0m\u001b[0;34m\u001b[0m\u001b[0m\n\u001b[0;32m--> 160\u001b[0;31m             \u001b[0mbody_value\u001b[0m \u001b[0;34m=\u001b[0m \u001b[0mself\u001b[0m\u001b[0;34m.\u001b[0m\u001b[0mserialize\u001b[0m\u001b[0;34m(\u001b[0m\u001b[0mbody_value\u001b[0m\u001b[0;34m)\u001b[0m\u001b[0;34m\u001b[0m\u001b[0;34m\u001b[0m\u001b[0m\n\u001b[0m\u001b[1;32m    161\u001b[0m         \u001b[0mself\u001b[0m\u001b[0;34m.\u001b[0m\u001b[0m_log_request\u001b[0m\u001b[0;34m(\u001b[0m\u001b[0mheaders\u001b[0m\u001b[0;34m,\u001b[0m \u001b[0mpath_params\u001b[0m\u001b[0;34m,\u001b[0m \u001b[0mquery\u001b[0m\u001b[0;34m,\u001b[0m \u001b[0mbody_value\u001b[0m\u001b[0;34m)\u001b[0m\u001b[0;34m\u001b[0m\u001b[0;34m\u001b[0m\u001b[0m\n\u001b[1;32m    162\u001b[0m         \u001b[0;32mreturn\u001b[0m \u001b[0;34m(\u001b[0m\u001b[0mheaders\u001b[0m\u001b[0;34m,\u001b[0m \u001b[0mpath_params\u001b[0m\u001b[0;34m,\u001b[0m \u001b[0mquery\u001b[0m\u001b[0;34m,\u001b[0m \u001b[0mbody_value\u001b[0m\u001b[0;34m)\u001b[0m\u001b[0;34m\u001b[0m\u001b[0;34m\u001b[0m\u001b[0m\n",
                        "\u001b[0;32m~/anaconda3/envs/pydev/lib/python3.6/site-packages/googleapiclient/model.py\u001b[0m in \u001b[0;36mserialize\u001b[0;34m(self, body_value)\u001b[0m\n\u001b[1;32m    271\u001b[0m         ):\n\u001b[1;32m    272\u001b[0m             \u001b[0mbody_value\u001b[0m \u001b[0;34m=\u001b[0m \u001b[0;34m{\u001b[0m\u001b[0;34m\"data\"\u001b[0m\u001b[0;34m:\u001b[0m \u001b[0mbody_value\u001b[0m\u001b[0;34m}\u001b[0m\u001b[0;34m\u001b[0m\u001b[0;34m\u001b[0m\u001b[0m\n\u001b[0;32m--> 273\u001b[0;31m         \u001b[0;32mreturn\u001b[0m \u001b[0mjson\u001b[0m\u001b[0;34m.\u001b[0m\u001b[0mdumps\u001b[0m\u001b[0;34m(\u001b[0m\u001b[0mbody_value\u001b[0m\u001b[0;34m)\u001b[0m\u001b[0;34m\u001b[0m\u001b[0;34m\u001b[0m\u001b[0m\n\u001b[0m\u001b[1;32m    274\u001b[0m \u001b[0;34m\u001b[0m\u001b[0m\n\u001b[1;32m    275\u001b[0m     \u001b[0;32mdef\u001b[0m \u001b[0mdeserialize\u001b[0m\u001b[0;34m(\u001b[0m\u001b[0mself\u001b[0m\u001b[0;34m,\u001b[0m \u001b[0mcontent\u001b[0m\u001b[0;34m)\u001b[0m\u001b[0;34m:\u001b[0m\u001b[0;34m\u001b[0m\u001b[0;34m\u001b[0m\u001b[0m\n",
                        "\u001b[0;32m~/anaconda3/envs/pydev/lib/python3.6/json/__init__.py\u001b[0m in \u001b[0;36mdumps\u001b[0;34m(obj, skipkeys, ensure_ascii, check_circular, allow_nan, cls, indent, separators, default, sort_keys, **kw)\u001b[0m\n\u001b[1;32m    229\u001b[0m         \u001b[0mcls\u001b[0m \u001b[0;32mis\u001b[0m \u001b[0;32mNone\u001b[0m \u001b[0;32mand\u001b[0m \u001b[0mindent\u001b[0m \u001b[0;32mis\u001b[0m \u001b[0;32mNone\u001b[0m \u001b[0;32mand\u001b[0m \u001b[0mseparators\u001b[0m \u001b[0;32mis\u001b[0m \u001b[0;32mNone\u001b[0m \u001b[0;32mand\u001b[0m\u001b[0;34m\u001b[0m\u001b[0;34m\u001b[0m\u001b[0m\n\u001b[1;32m    230\u001b[0m         default is None and not sort_keys and not kw):\n\u001b[0;32m--> 231\u001b[0;31m         \u001b[0;32mreturn\u001b[0m \u001b[0m_default_encoder\u001b[0m\u001b[0;34m.\u001b[0m\u001b[0mencode\u001b[0m\u001b[0;34m(\u001b[0m\u001b[0mobj\u001b[0m\u001b[0;34m)\u001b[0m\u001b[0;34m\u001b[0m\u001b[0;34m\u001b[0m\u001b[0m\n\u001b[0m\u001b[1;32m    232\u001b[0m     \u001b[0;32mif\u001b[0m \u001b[0mcls\u001b[0m \u001b[0;32mis\u001b[0m \u001b[0;32mNone\u001b[0m\u001b[0;34m:\u001b[0m\u001b[0;34m\u001b[0m\u001b[0;34m\u001b[0m\u001b[0m\n\u001b[1;32m    233\u001b[0m         \u001b[0mcls\u001b[0m \u001b[0;34m=\u001b[0m \u001b[0mJSONEncoder\u001b[0m\u001b[0;34m\u001b[0m\u001b[0;34m\u001b[0m\u001b[0m\n",
                        "\u001b[0;32m~/anaconda3/envs/pydev/lib/python3.6/json/encoder.py\u001b[0m in \u001b[0;36mencode\u001b[0;34m(self, o)\u001b[0m\n\u001b[1;32m    197\u001b[0m         \u001b[0;31m# exceptions aren't as detailed.  The list call should be roughly\u001b[0m\u001b[0;34m\u001b[0m\u001b[0;34m\u001b[0m\u001b[0;34m\u001b[0m\u001b[0m\n\u001b[1;32m    198\u001b[0m         \u001b[0;31m# equivalent to the PySequence_Fast that ''.join() would do.\u001b[0m\u001b[0;34m\u001b[0m\u001b[0;34m\u001b[0m\u001b[0;34m\u001b[0m\u001b[0m\n\u001b[0;32m--> 199\u001b[0;31m         \u001b[0mchunks\u001b[0m \u001b[0;34m=\u001b[0m \u001b[0mself\u001b[0m\u001b[0;34m.\u001b[0m\u001b[0miterencode\u001b[0m\u001b[0;34m(\u001b[0m\u001b[0mo\u001b[0m\u001b[0;34m,\u001b[0m \u001b[0m_one_shot\u001b[0m\u001b[0;34m=\u001b[0m\u001b[0;32mTrue\u001b[0m\u001b[0;34m)\u001b[0m\u001b[0;34m\u001b[0m\u001b[0;34m\u001b[0m\u001b[0m\n\u001b[0m\u001b[1;32m    200\u001b[0m         \u001b[0;32mif\u001b[0m \u001b[0;32mnot\u001b[0m \u001b[0misinstance\u001b[0m\u001b[0;34m(\u001b[0m\u001b[0mchunks\u001b[0m\u001b[0;34m,\u001b[0m \u001b[0;34m(\u001b[0m\u001b[0mlist\u001b[0m\u001b[0;34m,\u001b[0m \u001b[0mtuple\u001b[0m\u001b[0;34m)\u001b[0m\u001b[0;34m)\u001b[0m\u001b[0;34m:\u001b[0m\u001b[0;34m\u001b[0m\u001b[0;34m\u001b[0m\u001b[0m\n\u001b[1;32m    201\u001b[0m             \u001b[0mchunks\u001b[0m \u001b[0;34m=\u001b[0m \u001b[0mlist\u001b[0m\u001b[0;34m(\u001b[0m\u001b[0mchunks\u001b[0m\u001b[0;34m)\u001b[0m\u001b[0;34m\u001b[0m\u001b[0;34m\u001b[0m\u001b[0m\n",
                        "\u001b[0;32m~/anaconda3/envs/pydev/lib/python3.6/json/encoder.py\u001b[0m in \u001b[0;36miterencode\u001b[0;34m(self, o, _one_shot)\u001b[0m\n\u001b[1;32m    255\u001b[0m                 \u001b[0mself\u001b[0m\u001b[0;34m.\u001b[0m\u001b[0mkey_separator\u001b[0m\u001b[0;34m,\u001b[0m \u001b[0mself\u001b[0m\u001b[0;34m.\u001b[0m\u001b[0mitem_separator\u001b[0m\u001b[0;34m,\u001b[0m \u001b[0mself\u001b[0m\u001b[0;34m.\u001b[0m\u001b[0msort_keys\u001b[0m\u001b[0;34m,\u001b[0m\u001b[0;34m\u001b[0m\u001b[0;34m\u001b[0m\u001b[0m\n\u001b[1;32m    256\u001b[0m                 self.skipkeys, _one_shot)\n\u001b[0;32m--> 257\u001b[0;31m         \u001b[0;32mreturn\u001b[0m \u001b[0m_iterencode\u001b[0m\u001b[0;34m(\u001b[0m\u001b[0mo\u001b[0m\u001b[0;34m,\u001b[0m \u001b[0;36m0\u001b[0m\u001b[0;34m)\u001b[0m\u001b[0;34m\u001b[0m\u001b[0;34m\u001b[0m\u001b[0m\n\u001b[0m\u001b[1;32m    258\u001b[0m \u001b[0;34m\u001b[0m\u001b[0m\n\u001b[1;32m    259\u001b[0m def _make_iterencode(markers, _default, _encoder, _indent, _floatstr,\n",
                        "\u001b[0;32m~/anaconda3/envs/pydev/lib/python3.6/json/encoder.py\u001b[0m in \u001b[0;36mdefault\u001b[0;34m(self, o)\u001b[0m\n\u001b[1;32m    178\u001b[0m         \"\"\"\n\u001b[1;32m    179\u001b[0m         raise TypeError(\"Object of type '%s' is not JSON serializable\" %\n\u001b[0;32m--> 180\u001b[0;31m                         o.__class__.__name__)\n\u001b[0m\u001b[1;32m    181\u001b[0m \u001b[0;34m\u001b[0m\u001b[0m\n\u001b[1;32m    182\u001b[0m     \u001b[0;32mdef\u001b[0m \u001b[0mencode\u001b[0m\u001b[0;34m(\u001b[0m\u001b[0mself\u001b[0m\u001b[0;34m,\u001b[0m \u001b[0mo\u001b[0m\u001b[0;34m)\u001b[0m\u001b[0;34m:\u001b[0m\u001b[0;34m\u001b[0m\u001b[0;34m\u001b[0m\u001b[0m\n",
                        "\u001b[0;31mTypeError\u001b[0m: Object of type 'bytes' is not JSON serializable"
                    ]
                }
            ],
            "source": [
                "my_rep.send()"
            ]
        },
        {
            "cell_type": "code",
            "execution_count": 133,
            "metadata": {},
            "outputs": [
                {
                    "output_type": "stream",
                    "name": "stdout",
                    "text": [
                        "To, ben@terminallabs.com, {}\nFrom, indecorpredicate@gmail.com, {}\nSubject, Testing a Bot, {}\n"
                    ]
                }
            ],
            "source": [
                "\n",
                "MyGMessage.set_content(\"Hi,  I'm a script that's testing API integration.  did you get this?  thanks!\")\n",
                "\n",
                "MyGMessage.add_sole_header(\"To\", \"ben@terminallabs.com\")\n",
                "MyGMessage.add_sole_header(\"From\", MyGMessage.user.user_id)\n",
                "MyGMessage.add_sole_header(\"Subject\", \"Testing a Bot\")"
            ]
        },
        {
            "cell_type": "code",
            "execution_count": 123,
            "metadata": {},
            "outputs": [
                {
                    "output_type": "stream",
                    "name": "stdout",
                    "text": [
                        "{'Content-Transfer-Encoding': '7bit',\n 'Content-Type': 'text/plain; charset=\"utf-8\"',\n 'From': 'indecorpredicate@gmail.com',\n 'MIME-Version': '1.0',\n 'Subject': 'Testing a Bot',\n 'To': 'ben@terminallabs.com'}\n{'Content-Transfer-Encoding': '7bit',\n 'Content-Type': 'text/plain; charset=\"utf-8\"',\n 'From': 'indecorpredicate@gmail.com',\n 'MIME-Version': '1.0',\n 'Subject': 'Testing a Bot',\n 'To': 'ben@terminallabs.com'}\n"
                    ]
                }
            ],
            "source": [
                "from pprint import pprint\n",
                "pprint(dict(MyGMessage.items()))\n",
                "pprint(dict(MyGMessage))"
            ]
        },
        {
            "cell_type": "code",
            "execution_count": 111,
            "metadata": {},
            "outputs": [
                {
                    "output_type": "execute_result",
                    "data": {
                        "text/plain": [
                            "{'id': '17b7e9da190bdf5b',\n",
                            " 'threadId': '17b7e9d38e2a9fe8',\n",
                            " 'labelIds': ['UNREAD', 'IMPORTANT', 'SENT', 'INBOX'],\n",
                            " 'snippet': 'Hi, I&#39;m a body PaRagRaPh @!SDXCV^',\n",
                            " 'payload': {'partId': '',\n",
                            "  'mimeType': 'multipart/alternative',\n",
                            "  'filename': '',\n",
                            "  'headers': [{'name': 'MIME-Version', 'value': '1.0'},\n",
                            "   {'name': 'Date', 'value': 'Wed, 25 Aug 2021 14:41:04 -0400'},\n",
                            "   {'name': 'Message-ID',\n",
                            "    'value': '<CAFGEsPv1hWe3uBCi3LXwWhovm7WMauc9MCJdibw=qXhUOBtR7Q@mail.gmail.com>'},\n",
                            "   {'name': 'Subject', 'value': \"I'm a Subject LiNe\"},\n",
                            "   {'name': 'From', 'value': 'Indecor Predicate <indecorpredicate@gmail.com>'},\n",
                            "   {'name': 'To', 'value': 'Indecor Predicate <indecorpredicate@gmail.com>'},\n",
                            "   {'name': 'Content-Type',\n",
                            "    'value': 'multipart/alternative; boundary=\"000000000000bcb40b05ca6697c6\"'}],\n",
                            "  'body': {'size': 0},\n",
                            "  'parts': [{'partId': '0',\n",
                            "    'mimeType': 'text/plain',\n",
                            "    'filename': '',\n",
                            "    'headers': [{'name': 'Content-Type',\n",
                            "      'value': 'text/plain; charset=\"UTF-8\"'}],\n",
                            "    'body': {'size': 37,\n",
                            "     'data': 'SGksDQpJJ20gYSBib2R5IFBhUmFnUmFQaA0KQCFTRFhDVl4NCg=='}},\n",
                            "   {'partId': '1',\n",
                            "    'mimeType': 'text/html',\n",
                            "    'filename': '',\n",
                            "    'headers': [{'name': 'Content-Type',\n",
                            "      'value': 'text/html; charset=\"UTF-8\"'}],\n",
                            "    'body': {'size': 80,\n",
                            "     'data': 'PGRpdiBkaXI9Imx0ciI-SGksPGRpdj5JJiMzOTttIGEgYm9keSBQYVJhZ1JhUGg8L2Rpdj48ZGl2PkAhU0RYQ1ZePC9kaXY-PC9kaXY-DQo='}}]},\n",
                            " 'sizeEstimate': 661,\n",
                            " 'historyId': '6564',\n",
                            " 'internalDate': '1629916864000'}"
                        ]
                    },
                    "metadata": {},
                    "execution_count": 111
                }
            ],
            "source": [
                "MyGmail._messages_api().get(userId=MyGmail.user_id, id='17b7e9da190bdf5b').execute()"
            ]
        },
        {
            "cell_type": "code",
            "execution_count": 68,
            "metadata": {},
            "outputs": [],
            "source": [
                "with open('text.txt') as fp:\n",
                "    fp.read()"
            ]
        },
        {
            "cell_type": "code",
            "execution_count": 71,
            "metadata": {},
            "outputs": [
                {
                    "output_type": "execute_result",
                    "data": {
                        "text/plain": [
                            "str"
                        ]
                    },
                    "metadata": {},
                    "execution_count": 71
                }
            ],
            "source": [
                "type(open('text.txt').read())"
            ]
        },
        {
            "cell_type": "code",
            "execution_count": 74,
            "metadata": {},
            "outputs": [],
            "source": [
                "mes = email.message.EmailMessage()\n",
                "mes.set_content(\"this is some content\")"
            ]
        },
        {
            "cell_type": "code",
            "execution_count": 77,
            "metadata": {},
            "outputs": [
                {
                    "output_type": "execute_result",
                    "data": {
                        "text/plain": [
                            "'Content-Type: text/plain; charset=\"utf-8\"\\nContent-Transfer-Encoding: 7bit\\nMIME-Version: 1.0\\n\\nthis is some content\\n'"
                        ]
                    },
                    "metadata": {},
                    "execution_count": 77
                }
            ],
            "source": [
                "mes.get_body().as_string()"
            ]
        },
        {
            "cell_type": "code",
            "execution_count": 79,
            "metadata": {},
            "outputs": [
                {
                    "output_type": "execute_result",
                    "data": {
                        "text/plain": [
                            "'Content-Type: text/plain; charset=\"utf-8\"\\nContent-Transfer-Encoding: 7bit\\nMIME-Version: 1.0\\n\\nthis is some content\\n'"
                        ]
                    },
                    "metadata": {},
                    "execution_count": 79
                }
            ],
            "source": [
                "mes.as_string()"
            ]
        },
        {
            "cell_type": "code",
            "execution_count": 127,
            "metadata": {},
            "outputs": [
                {
                    "output_type": "error",
                    "ename": "SyntaxError",
                    "evalue": "can't use starred expression here (<ipython-input-127-50b70f771192>, line 6)",
                    "traceback": [
                        "\u001b[0;36m  File \u001b[0;32m\"<ipython-input-127-50b70f771192>\"\u001b[0;36m, line \u001b[0;32m6\u001b[0m\n\u001b[0;31mSyntaxError\u001b[0m\u001b[0;31m:\u001b[0m can't use starred expression here\n"
                    ]
                }
            ],
            "source": [
                "d = {\"key\": \"val\", 1:2}\n",
                "# {key: val for key, val in d}\n",
                "(*d)\n"
            ]
        },
        {
            "cell_type": "code",
            "execution_count": 129,
            "metadata": {},
            "outputs": [
                {
                    "output_type": "stream",
                    "name": "stdout",
                    "text": [
                        "3\n"
                    ]
                }
            ],
            "source": [
                "if True: print(3)"
            ]
        },
        {
            "cell_type": "code",
            "execution_count": 165,
            "metadata": {},
            "outputs": [],
            "source": [
                "mes = MyGmail.get_messages()[0]"
            ]
        },
        {
            "cell_type": "code",
            "execution_count": 168,
            "metadata": {},
            "outputs": [
                {
                    "output_type": "execute_result",
                    "data": {
                        "text/plain": [
                            "\"Re: I'm a Subject LiNe\""
                        ]
                    },
                    "metadata": {},
                    "execution_count": 168
                }
            ],
            "source": [
                "mes.mime[\"Subject\"]"
            ]
        },
        {
            "cell_type": "code",
            "execution_count": 164,
            "metadata": {},
            "outputs": [],
            "source": [
                "mes.mime[\"In-Reply-To\"]"
            ]
        },
        {
            "cell_type": "code",
            "execution_count": 170,
            "metadata": {},
            "outputs": [
                {
                    "output_type": "execute_result",
                    "data": {
                        "text/plain": [
                            "True"
                        ]
                    },
                    "metadata": {},
                    "execution_count": 170
                }
            ],
            "source": [
                "\"Re: \" == [:4]"
            ]
        },
        {
            "cell_type": "code",
            "execution_count": 180,
            "metadata": {},
            "outputs": [
                {
                    "output_type": "stream",
                    "name": "stdout",
                    "text": [
                        "{'this': 'that'}\n"
                    ]
                }
            ],
            "source": [
                "def kwargs(**kwargs):\n",
                "    print(kwargs)\n",
                "kwargs(this=\"that\")"
            ]
        },
        {
            "cell_type": "code",
            "execution_count": null,
            "metadata": {},
            "outputs": [],
            "source": []
        }
    ],
    "metadata": {
        "orig_nbformat": 4,
        "language_info": {
            "name": "python",
            "version": "3.6.10",
            "mimetype": "text/x-python",
            "codemirror_mode": {
                "name": "ipython",
                "version": 3
            },
            "pygments_lexer": "ipython3",
            "nbconvert_exporter": "python",
            "file_extension": ".py"
        },
        "kernelspec": {
            "name": "python3",
            "display_name": "Python 3.6.10 64-bit ('pydev': conda)"
        },
        "interpreter": {
            "hash": "3a0afe56b1e67792e861f38d6b26ecb378429b543d302460c52e434d6249a684"
        }
    },
    "nbformat": 4,
    "nbformat_minor": 2
}