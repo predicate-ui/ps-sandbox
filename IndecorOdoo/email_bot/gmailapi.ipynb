{
    "cells": [
        {
            "cell_type": "code",
            "execution_count": null,
            "source": [
                "import oauth\n",
                "email_address = \"indecorpredicate@gmail.com\""
            ],
            "outputs": [],
            "metadata": {}
        },
        {
            "cell_type": "code",
            "execution_count": null,
            "metadata": {},
            "outputs": [],
            "source": [
                "MyGmail = oauth.OAuthGmailUser(\"michael@terminallabs.com\", cred_path=oauth.CRED_PATH, token_path=oauth.TOKEN_PATH, scopes=[\"modify\"])"
            ]
        },
        {
            "cell_type": "code",
            "execution_count": null,
            "source": [
                "MyGmail.get_messages(max_results=4)"
            ],
            "outputs": [],
            "metadata": {}
        }
    ],
    "metadata": {
        "orig_nbformat": 4,
        "language_info": {
            "name": "python",
            "version": "3.6.10",
            "mimetype": "text/x-python",
            "codemirror_mode": {
                "name": "ipython",
                "version": 3
            },
            "pygments_lexer": "ipython3",
            "nbconvert_exporter": "python",
            "file_extension": ".py"
        },
        "kernelspec": {
            "name": "python3",
            "display_name": "Python 3.6.10 64-bit ('pydev': conda)"
        },
        "interpreter": {
            "hash": "3a0afe56b1e67792e861f38d6b26ecb378429b543d302460c52e434d6249a684"
        }
    },
    "nbformat": 4,
    "nbformat_minor": 2
}