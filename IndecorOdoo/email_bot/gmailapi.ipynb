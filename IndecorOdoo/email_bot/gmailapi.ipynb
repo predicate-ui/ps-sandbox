{
    "cells": [
        {
            "cell_type": "code",
            "execution_count": 1,
            "source": [
                "from pathlib import Path\n",
                "from googleapiclient.discovery import build\n",
                "from google_auth_oauthlib.flow import InstalledAppFlow\n",
                "from google.auth.transport.requests import Request\n",
                "from google.oauth2.credentials import Credentials\n",
                "\n",
                "# If modifying these scopes, delete the file token.json.\n",
                "SCOPES = ['https://www.googleapis.com/auth/gmail.modify']\n",
                "CRED_PATH = Path('/home/benjamin/predicatestudio/ps-sandbox/IndecorOdoo/email_bot/IndecorEmailBot.json')\n",
                "TOKEN_PATH = Path(\"token.json\")\n",
                "\n",
                "class OAuthGmailUser():\n",
                "    def __init__(self, cred_path=\"credentials.json\", token_path=\"token.json\", scopes=['send']):\n",
                "        # using Path objects to hold credential paths\n",
                "        self.cred_path = Path(cred_path)\n",
                "        self.token_path = Path(token_path)\n",
                "        self.scopes = [f\"https://www.googleapis.com/auth/gmail.{scope}\" for scope in scopes]\n",
                "        # full scope encapsulates all other scopes\n",
                "        if \"full\" in self.scopes:\n",
                "            self.scopes = ['https://mail.google.com/']\n",
                "        \n",
                "        self.creds = self._get_creds()\n",
                "    \n",
                "    def _read_token(self):\n",
                "        if self.token_path.exists():\n",
                "            return Credentials.from_authorized_user_file(self.token_path.absolute(), self.scopes)\n",
                "        \n",
                "\n",
                "    def _write_token(self, creds):\n",
                "        with self.token_path.open('w') as token_file:\n",
                "            token_file.write(creds.to_json())\n",
                "\n",
                "    def _refresh_token(self, creds):\n",
                "        if creds and creds.expired and creds.refresh_token:\n",
                "            creds.refresh(Request())\n",
                "            self._write_token(creds)\n",
                "        else:\n",
                "            # discard expired creds that won't refresh\n",
                "            creds = None\n",
                "        return creds\n",
                "\n",
                "    def _generate_creds(self):\n",
                "        flow = InstalledAppFlow.from_client_secrets_file(\n",
                "            self.cred_path, self.scopes)\n",
                "        creds = flow.run_local_server(port=0)\n",
                "        self._write_token(creds)\n",
                "        return creds\n",
                "\n",
                "    \n",
                "    def _get_creds(self):\n",
                "        # If we have user access and refresh tokens, use those. Otherwise, generate \n",
                "        # them from the OAuth credentials\n",
                "        creds = self._read_token()\n",
                "                \n",
                "        # If there are no (valid) credentials available, let the user log in.\n",
                "        if creds and not creds.valid:\n",
                "            creds = self._refresh_token(creds)\n",
                "        if not creds:\n",
                "            creds = self._generate_creds()\n",
                "        return creds\n",
                "    \n",
                "    def start_service(self):\n",
                "        service = build('gmail', 'v1', credentials=self.creds)\n",
                "        return service\n",
                "\n",
                "def read_email(user):\n",
                "    pass\n",
                "\n",
                "# def main():\n",
                "#     \"\"\"Shows basic usage of the Gmail API.\n",
                "#     Lists the user's Gmail labels.\n",
                "#     \"\"\"\n",
                "    \n",
                "#     creds = get_user_token(TOKEN_PATH, SCOPES)\n",
                "\n",
                "\n",
                "#     service = build('gmail', 'v1', credentials=creds)\n",
                "\n",
                "#     # Call the Gmail API\n",
                "#     results = service.users().labels().list(userId='me').execute()\n",
                "#     labels = results.get('labels', [])\n",
                "\n",
                "#     if not labels:\n",
                "#         print('No labels found.')\n",
                "#     else:\n",
                "#         print('Labels:')\n",
                "#         for label in labels:\n",
                "#             print(label['name'])\n",
                "\n",
                "# if __name__ == '__main__':\n",
                "#     main()"
            ],
            "outputs": [],
            "metadata": {}
        },
        {
            "cell_type": "code",
            "execution_count": 3,
            "source": [
                "Indecor = OAuthGmailUser(CRED_PATH.absolute(), TOKEN_PATH.absolute(), [\"modify\"])"
            ],
            "outputs": [
                {
                    "output_type": "stream",
                    "name": "stdout",
                    "text": [
                        "Please visit this URL to authorize this application: https://accounts.google.com/o/oauth2/auth?response_type=code&client_id=467488332884-nkn4j4q35qgq66vterij95d56limmhn5.apps.googleusercontent.com&redirect_uri=http%3A%2F%2Flocalhost%3A58565%2F&scope=https%3A%2F%2Fwww.googleapis.com%2Fauth%2Fgmail.modify&state=czOT4mMAxIugsjp9QTSm57XPYpgqjd&access_type=offline\n"
                    ]
                }
            ],
            "metadata": {}
        },
        {
            "cell_type": "code",
            "execution_count": 4,
            "source": [
                "service = Indecor.start_service()"
            ],
            "outputs": [],
            "metadata": {}
        },
        {
            "cell_type": "code",
            "execution_count": 7,
            "source": [
                "users = service.users()"
            ],
            "outputs": [],
            "metadata": {}
        },
        {
            "cell_type": "code",
            "execution_count": 11,
            "source": [
                "threads = users.threads()"
            ],
            "outputs": [],
            "metadata": {}
        },
        {
            "cell_type": "code",
            "execution_count": null,
            "source": [
                "threads.list()"
            ],
            "outputs": [],
            "metadata": {}
        }
    ],
    "metadata": {
        "orig_nbformat": 4,
        "language_info": {
            "name": "python",
            "version": "3.6.10",
            "mimetype": "text/x-python",
            "codemirror_mode": {
                "name": "ipython",
                "version": 3
            },
            "pygments_lexer": "ipython3",
            "nbconvert_exporter": "python",
            "file_extension": ".py"
        },
        "kernelspec": {
            "name": "python3",
            "display_name": "Python 3.6.10 64-bit ('pydev': conda)"
        },
        "interpreter": {
            "hash": "3a0afe56b1e67792e861f38d6b26ecb378429b543d302460c52e434d6249a684"
        }
    },
    "nbformat": 4,
    "nbformat_minor": 2
}